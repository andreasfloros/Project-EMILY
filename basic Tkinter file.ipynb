{
 "cells": [
  {
   "cell_type": "code",
   "execution_count": null,
   "metadata": {},
   "outputs": [],
   "source": [
    "import tkinter as tk\n",
    "\n",
    "NETWORK_OPTIONS = [\n",
    "    \"Dense\",\n",
    "    \"1 CNN Layer\",\n",
    "    \"Multiple CNN Layers\"\n",
    "] #etc\n",
    "\n",
    "root = tk.Tk() \n",
    "\n",
    "network_variable = tk.StringVar(root)\n",
    "network_variable.set(NETWORK_OPTIONS[0]) # default value\n",
    "\n",
    "w1 = tk.OptionMenu(root, network_variable, *NETWORK_OPTIONS) #drop down showing all the networks\n",
    "w1.pack(side=\"top\")\n",
    "\n",
    "PROCESSING_OPTIONS = [\n",
    "    \"FFT\",\n",
    "    \"STFT\",\n",
    "    \"MFCC\"\n",
    "] #etc\n",
    "\n",
    "\n",
    "processing_variable = tk.StringVar(root)\n",
    "processing_variable.set(PROCESSING_OPTIONS[0]) # default value\n",
    "\n",
    "w2 = tk.OptionMenu(root, processing_variable, *PROCESSING_OPTIONS) #drop down showing all the dsp \n",
    "w2.pack(side=\"top\")\n",
    "\n",
    "def ok():\n",
    "    print (\"Network is: \" + network_variable.get() + \" with \" + processing_variable.get()) #prints the combination eg: Dense with FFT\n",
    "\n",
    "button = tk.Button(root, text=\"OK\", command=ok)\n",
    "button.pack(side=\"bottom\") #after choosing press ok to do the print\n",
    "\n",
    "exit = tk.Button(root, text=\"EXIT\", command=root.destroy,fg=\"red\") #exit\n",
    "exit.pack(side=\"bottom\")\n",
    "\n",
    "root.mainloop()"
   ]
  }
 ],
 "metadata": {
  "kernelspec": {
   "display_name": "Python 3",
   "language": "python",
   "name": "python3"
  },
  "language_info": {
   "codemirror_mode": {
    "name": "ipython",
    "version": 3
   },
   "file_extension": ".py",
   "mimetype": "text/x-python",
   "name": "python",
   "nbconvert_exporter": "python",
   "pygments_lexer": "ipython3",
   "version": "3.7.6"
  }
 },
 "nbformat": 4,
 "nbformat_minor": 4
}
