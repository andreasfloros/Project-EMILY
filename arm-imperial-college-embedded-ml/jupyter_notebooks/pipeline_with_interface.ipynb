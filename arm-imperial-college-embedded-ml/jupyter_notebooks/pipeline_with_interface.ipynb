{
  "nbformat": 4,
  "nbformat_minor": 0,
  "metadata": {
    "colab": {
      "name": "with_interface.ipynb",
      "provenance": [],
      "collapsed_sections": []
    },
    "kernelspec": {
      "name": "python3",
      "display_name": "Python 3"
    },
    "language_info": {
      "name": "python"
    }
  },
  "cells": [
    {
      "cell_type": "markdown",
      "metadata": {
        "id": "PDKVJZ0SnY8z"
      },
      "source": [
        "# Audio classifier pipeline"
      ]
    },
    {
      "cell_type": "code",
      "metadata": {
        "cellView": "form",
        "id": "wuPIoMU9rUqO"
      },
      "source": [
        "#@title ## **Input Parameters**\n",
        "\n",
        "#@markdown #### _**This section contains essential parameters regarding the functionality of this platform.**_\n",
        "#@markdown #### _**Please complete the following fields and then go to the 'Runtime' tab on the top of the page and click 'Run all'.**_\n",
        "\n",
        "#@markdown _\n",
        "\n",
        "#@markdown ####**1. Dataset selection:**\n",
        "#@markdown Copy and paste the URL of the dataset to be used. To change between datasets change the url to one which downloads a .tar file.\n",
        "\n",
        "#@markdown *Default:* Speech Commands\n",
        "\n",
        "\n",
        "dataset_url = 'http://download.tensorflow.org/data/speech_commands_v0.02.tar.gz' #@param {type: 'string'}\n",
        "\n",
        "#@markdown _\n",
        "\n",
        "#@markdown ####**2. Processing method:**\n",
        "\n",
        "#@markdown Choose between processing methods (None/FFT/STFT/MFCC) by clicking on the dropdown menu arrow.\n",
        "\n",
        "#@markdown *Default:* None\n",
        "\n",
        "processing_method = 'MFCC' #@param ['None', 'FFT', 'STFT', 'MFCC'] {allow-input: true}\n",
        "\n",
        "#@markdown _\n",
        "\n",
        "#@markdown ####**3. Processing parameters:**\n",
        "\n",
        "#@markdown Different parameters must be set depending on the processing method used. This is depicted in the following table. \n",
        "\n",
        "#@markdown **!!!** If a parameter does not say 'YES' for your processing method of choice, please leave it at its default value. **!!!**\n",
        "\n",
        "#@markdown |||/| sample_rate |/| expected_duration |/| window_size |/| window_stride |/| mfcc_coeff_number\n",
        "#@markdown ------------ ||| ------------- || ------------- || ------------- || ------------- || -------------\n",
        "#@markdown None ||/| YES |/| YES |/|  |/|  |/|\n",
        "#@markdown FFT  ||/| YES |/| YES |/|  |/|  |/|\n",
        "#@markdown STFT ||/| YES |/| YES |/| YES |/| YES |/|\n",
        "#@markdown MFCC ||/| YES |/| YES |/| YES |/| YES |/| YES\n",
        "\n",
        "#@markdown _\n",
        "\n",
        "#@markdown Only two values are allowed for the sampling rate so please choose from the dropdown menu. \n",
        "#@markdown Also note that the expected duration of the audio track is in seconds.\n",
        "\n",
        "sample_rate = \"16000\" #@param [16000, 44100] {allow-input: true}\n",
        "expected_duration = 1.024 #@param {type: 'number'}\n",
        "\n",
        "#@markdown _\n",
        "\n",
        "#@markdown Only powers of two are allowed as window size for the STFT and MFCC algorithms so please choose from the dropdown menu. Note that this constraint is not valid for the window stride.\n",
        "window_size = \"512\" #@param [256, 512, 1024, 2048, 4096, 8192] {allow-input: true}\n",
        "window_stride =  320 #@param {type: 'number'}\n",
        "mfcc_coeff_number = 13 #@param {type: 'number'}\n",
        "\n",
        "#@markdown _\n",
        "\n",
        "#@markdown ####**4. Neural Network parameters:**\n",
        "\n",
        "#@markdown Choose the number of classes between which you're classifying.\n",
        "\n",
        "num_of_classes = 4 #@param {type: 'number'}"
      ],
      "execution_count": 4,
      "outputs": []
    },
    {
      "cell_type": "code",
      "metadata": {
        "colab": {
          "base_uri": "https://localhost:8080/"
        },
        "id": "2v3fpsWlufbb",
        "outputId": "298a10a2-75a2-4176-8a36-1e32d97b3b0b"
      },
      "source": [
        "import tensorflow as tf\n",
        "\n",
        "if tf.__version__ == '2.2.0':\n",
        "  print(\"Correct tensorflow version: {}\".format(tf.__version__))\n",
        "else:\n",
        "  print(\"Wrong tensorflow version! Should be 2.2.0 but is {}\".format(tf.__version__))\n",
        "  !pip uninstall tensorflow -y\n",
        "  !pip install  tensorflow==2.2"
      ],
      "execution_count": 5,
      "outputs": [
        {
          "output_type": "stream",
          "text": [
            "Correct tensorflow version: 2.2.0\n"
          ],
          "name": "stdout"
        }
      ]
    },
    {
      "cell_type": "code",
      "metadata": {
        "id": "iBu_MVltrflI"
      },
      "source": [
        "DATASET_URL = dataset_url\n",
        "DATASET_ROOT_DIR = 'audio_data/'\n",
        "JSON_PATH = 'data.json'\n",
        "\n",
        "PROCESSING_METHOD = lower(processing_method)\n",
        "\n",
        "SAMPLE_RATE = int(sample_rate)\n",
        "EXPECTED_DURATION = expected_duration\n",
        "WINDOW_SIZE_SAMPLES = int(window_size)\n",
        "WINDOW_STRIDE_SAMPLES = window_stride\n",
        "MFCC_COEFF_NUMBER = mfcc_coeff_number\n",
        "\n",
        "NUM_OF_CLASSES = num_of_classes"
      ],
      "execution_count": 6,
      "outputs": []
    },
    {
      "cell_type": "markdown",
      "metadata": {
        "id": "qhjmJcqIe4Ku"
      },
      "source": [
        "### 1) Download and untar dataset directly to colab:\n",
        "\n",
        "To change between datasets change the url to one which downloads a .tar file.\n",
        "\n",
        "**Other important notes:**\n",
        "\n",
        "**1.** If the audio_data folder already exists in your colab session running the following cell will give an error. That is not a problem, run it anyway.\n",
        "\n",
        "**2.** To load the audio samples we use the librosa library. Its load function supports a large range of input formats such as WAV, MP3, FLAC, OGG and many others. For the full list of available input formats please refer to the documentation at https://librosa.org/doc/main/generated/librosa.load.html. An important point is that the library can't load README files, which can often be found in datasets in the form of .md and .txt files. Not deleting such files will cause the library to fail when processing the dataset!"
      ]
    },
    {
      "cell_type": "code",
      "metadata": {
        "id": "hROJGZ_rWPGa"
      },
      "source": [
        "import os\n",
        "import requests\n",
        "import tarfile\n",
        "\n",
        "os.mkdir(DATASET_ROOT_DIR)\n",
        "url = DATASET_URL\n",
        "target_path = 'audio_data/dataset.tar.gz'\n",
        "\n",
        "response = requests.get(url, stream=True)\n",
        "if response.status_code == 200:\n",
        "    with open(target_path, 'wb') as f:\n",
        "        f.write(response.raw.read())\n",
        "\n",
        "tar = tarfile.open(target_path, \"r:gz\")\n",
        "tar.extractall(path='audio_data/')\n",
        "tar.close()"
      ],
      "execution_count": 7,
      "outputs": []
    },
    {
      "cell_type": "markdown",
      "metadata": {
        "id": "m_mTATcwlAle"
      },
      "source": [
        "### 2) Preprocess dataset:\n",
        "\n",
        "We iterate through the entire dataset, process every audio track using a processing method (either FFT, STFT, or MFCC), and store all of them in a JSON file. Currently, the user is able to control the processing method, expected duration of the audio tracks, the sample rate, as well as other values related to the processing methods.\n",
        "\n",
        "Potentially, the user might also be able (in the future) to automatically go through all processing methods and use the one which optimizes the current model accuracy.\n",
        "\n",
        "The process explained above can be completed through the following steps."
      ]
    },
    {
      "cell_type": "markdown",
      "metadata": {
        "id": "u-hzEODswh24"
      },
      "source": [
        "**Step 1:** Import necessary libraries"
      ]
    },
    {
      "cell_type": "code",
      "metadata": {
        "id": "q868TWmywSTW"
      },
      "source": [
        "import os\n",
        "import librosa\n",
        "import math\n",
        "import json\n",
        "import numpy as np"
      ],
      "execution_count": 8,
      "outputs": []
    },
    {
      "cell_type": "markdown",
      "metadata": {
        "id": "1Jsjd9sGwsbw"
      },
      "source": [
        "**Step 2:** Function to extend/cut tracks appropriately so that all contain the expected number of samples"
      ]
    },
    {
      "cell_type": "code",
      "metadata": {
        "id": "ExNJOdGAwUS3"
      },
      "source": [
        "def make_track_correct_size(signal, expected_num_samples_per_track):\n",
        "\n",
        "    # print('Original track length: {}'.format(len(signal)))\n",
        "    # if track is shorter than expected, append it with zeros\n",
        "    if len(signal) < expected_num_samples_per_track:\n",
        "      num_zeros_to_pad = expected_num_samples_per_track - len(signal)\n",
        "      zeros = num_zeros_to_pad * [0.]\n",
        "      extended_signal = np.append(signal, zeros)\n",
        "      return extended_signal\n",
        "\n",
        "    # if track is longer than expected, truncate it\n",
        "    elif len(signal) > expected_num_samples_per_track:\n",
        "      return signal[:expected_num_samples_per_track]\n",
        "\n",
        "    # else return the original track \n",
        "    else:\n",
        "      return signal"
      ],
      "execution_count": 9,
      "outputs": []
    },
    {
      "cell_type": "markdown",
      "metadata": {
        "id": "w5KBOt9mw9o-"
      },
      "source": [
        "**Step 3:** Define function to process a single track using the specified method (FFT/STFT/MFCC) and return the data structure containing the result. This function will be called for all tracks within the dataset. Also note that we always return a 1D array by flattening the 2D arrays where necessary. We do this so that we can replicate the exact same preprocessing on Arduino."
      ]
    },
    {
      "cell_type": "code",
      "metadata": {
        "id": "-ndxpmhtwYhw"
      },
      "source": [
        "def audio_track_to_features(signal, processing_method, sample_rate, window_size, window_stride, num_mfcc):\n",
        "  if processing_method == 'none':\n",
        "    # if no processing method is selected we only averaged the signal every 32 samples\n",
        "    averaged = np.mean(signal.reshape(-1, 32), axis=1)\n",
        "    return averaged\n",
        "\n",
        "  elif processing_method == 'fft':\n",
        "    # perform Fast Fourier Transform (FFT)\n",
        "    fft = np.fft.fft(signal)\n",
        "\n",
        "    # calculate abs values on complex numbers to get magnitude\n",
        "    spectrum = np.abs(fft)\n",
        "\n",
        "    # the spectrum is symmetrical with respect to sample_rate / 2\n",
        "    # so take half of the spectrum and frequency arrays\n",
        "    # therefore len(half_spectrum) = sample_rate / 2\n",
        "    half_spectrum = spectrum[:int(len(spectrum)/2)]\n",
        "\n",
        "    # average every 16 samples to reduce size of array to 1 / 16 of its original size\n",
        "    # e.g. sample_rate = 16k, duration = 1.024s, reduce size from 8192 to 512 \n",
        "    averaged = np.mean(half_spectrum.reshape(-1, 16), axis=1)\n",
        "\n",
        "    # transform to range -128 to 127\n",
        "    averaged *= (255.0/averaged.max()) # 0-255\n",
        "    averaged -= 128\n",
        "\n",
        "    return averaged\n",
        "\n",
        "\n",
        "  elif processing_method == 'stft':\n",
        "    # perform Short Time Fourier Transform (STFT)\n",
        "    stft = librosa.stft(signal = signal, \n",
        "                        n_fft = window_size, \n",
        "                        hop_length = window_stride)\n",
        "\n",
        "    # calculate abs values on complex numbers to get magnitude\n",
        "    spectrogram = np.abs(stft)\n",
        "\n",
        "    # transpose and return the spectrogram matrix\n",
        "    transposed_spectrogram = spectrogram.transpose()\n",
        "    return transposed_spectrogram.flatten()\n",
        "\n",
        "\n",
        "  else: # mfcc\n",
        "    # perform Mel-Frequency Cepstral Coefficients (MFCC)\n",
        "    mfcc = librosa.feature.mfcc(signal, \n",
        "                                sr = sample_rate, \n",
        "                                n_fft = window_size, \n",
        "                                n_mfcc = num_mfcc,\n",
        "                                hop_length = window_stride)\n",
        "    # transpose and return the mfcc matrix\n",
        "    transposed_mfcc = mfcc.T\n",
        "    return transposed_mfcc.flatten()"
      ],
      "execution_count": 10,
      "outputs": []
    },
    {
      "cell_type": "markdown",
      "metadata": {
        "id": "IcI71k9s1tg2"
      },
      "source": [
        "**Step 4:** Define function to process every audio track and create a JSON file with the entire processed dataset"
      ]
    },
    {
      "cell_type": "code",
      "metadata": {
        "id": "XBwlSAsbfyKi"
      },
      "source": [
        "def preprocess_entire_dataset(dataset_path, json_path, processing_method, sample_rate, expected_duration, window_size, window_stride, num_mfcc):\n",
        "  # expected duration is in seconds\n",
        "  expected_num_samples_per_track = int(expected_duration * sample_rate)\n",
        "  \n",
        "  # dictionary to later be converted to final json file\n",
        "  data = {\n",
        "      'mapping' : [],\n",
        "      'features' : [],\n",
        "      'labels' : []\n",
        "  }\n",
        "\n",
        "  # we will iterate this for each of the visited sub-directorie in order to\n",
        "  # give a different label for each of them\n",
        "  visited_directory_index = 0\n",
        "\n",
        "  # iterate through all subfolders\n",
        "  for dirpath, dirnames, filenames in os.walk(dataset_path):\n",
        "\n",
        "    # # ensure we are not at the dataset root directory\n",
        "    # # (os.walk provides this directory as well)\n",
        "    # if dirpath is not DATASET_ROOT_DIR:\n",
        "    if dirpath == 'audio_data/yes' or dirpath == 'audio_data/no' or dirpath == 'audio_data/bed' or dirpath == 'audio_data/_background_noise_':\n",
        "\n",
        "      # obtain word labels\n",
        "      dirpath_components = dirpath.split('/') # audio_data/left => ['audio_data', 'left']\n",
        "      word_label = dirpath_components[-1]\n",
        "      data['mapping'].append(word_label)\n",
        "      print('Processing {}'.format(word_label))\n",
        "\n",
        "      # access and process files for current word\n",
        "      for f in filenames:\n",
        "\n",
        "        # load audio file\n",
        "        file_path = os.path.join(dirpath, f)\n",
        "        signal, sample_rate = librosa.load(file_path, sr=sample_rate)\n",
        "\n",
        "        # extend or cut signal to be equal to the expected size\n",
        "        signal_correct_size = make_track_correct_size(signal, expected_num_samples_per_track)\n",
        "\n",
        "        # obtain the features of the audio track using the function defined above\n",
        "        track_features = audio_track_to_features(signal = signal_correct_size, \n",
        "                                                processing_method = processing_method,\n",
        "                                                sample_rate = sample_rate, \n",
        "                                                window_size = window_size, \n",
        "                                                window_stride = window_stride, \n",
        "                                                num_mfcc = num_mfcc)\n",
        "\n",
        "        # append the audio track features to the features field of the dictionary\n",
        "        data['features'].append(track_features.tolist())\n",
        "\n",
        "        # append the current directory index as the label of this track\n",
        "        data['labels'].append(visited_directory_index)\n",
        "        # print('file_path: {}'.format(file_path))\n",
        "\n",
        "      # iterate the index before visiting the next directory\n",
        "      visited_directory_index = visited_directory_index + 1\n",
        "\n",
        "  print(data['mapping'])\n",
        "  print(set(data['labels']))\n",
        "  # create the json file from the dictionary\n",
        "  with open(json_path, 'w') as fp:\n",
        "    json.dump(data, fp, indent=4)"
      ],
      "execution_count": 11,
      "outputs": []
    },
    {
      "cell_type": "markdown",
      "metadata": {
        "id": "kApAU17Yk2rS"
      },
      "source": [
        "**Step 5:** Before running these functions with the code in the following cell we must delete the '.ipynb_checkpoint' files which might otherwise be considered as part of the dataset and interfere with training the model. We also delete the README.md file in the audio_data/background_noise directory."
      ]
    },
    {
      "cell_type": "code",
      "metadata": {
        "id": "laA_vd7A02hn"
      },
      "source": [
        "rm -rf `find -type d -name .ipynb_checkpoints`"
      ],
      "execution_count": 12,
      "outputs": []
    },
    {
      "cell_type": "code",
      "metadata": {
        "id": "wJaCkd1Ny2BD"
      },
      "source": [
        "!rm audio_data/_background_noise_/README.md"
      ],
      "execution_count": 13,
      "outputs": []
    },
    {
      "cell_type": "markdown",
      "metadata": {
        "id": "tNV13MzS1-2M"
      },
      "source": [
        "**Step 6:** Run the preprocessing function above with the desired parameters"
      ]
    },
    {
      "cell_type": "code",
      "metadata": {
        "id": "qQKXmoGxjKJx",
        "colab": {
          "base_uri": "https://localhost:8080/"
        },
        "outputId": "6c517369-4e01-4d0c-b9c0-e6f01b595647"
      },
      "source": [
        "preprocess_entire_dataset(dataset_path = DATASET_ROOT_DIR, \n",
        "                   json_path = JSON_PATH, \n",
        "                   processing_method = PROCESSING_METHOD,\n",
        "                   sample_rate = SAMPLE_RATE, \n",
        "                   expected_duration = EXPECTED_DURATION, \n",
        "                   window_size = WINDOW_SIZE_SAMPLES, \n",
        "                   window_stride = WINDOW_STRIDE_SAMPLES, \n",
        "                   num_mfcc = MFCC_COEFF_NUMBER)"
      ],
      "execution_count": 14,
      "outputs": [
        {
          "output_type": "stream",
          "text": [
            "Processing _background_noise_\n",
            "Processing yes\n",
            "Processing no\n",
            "Processing bed\n",
            "['_background_noise_', 'yes', 'no', 'bed']\n",
            "{0, 1, 2, 3}\n"
          ],
          "name": "stdout"
        }
      ]
    },
    {
      "cell_type": "markdown",
      "metadata": {
        "id": "Nio7zr1n-f17"
      },
      "source": [
        "### 3) Build and evaluate model:"
      ]
    },
    {
      "cell_type": "markdown",
      "metadata": {
        "id": "NoJGGu3MraXK"
      },
      "source": [
        "**Step 1:** Import necessary libraries"
      ]
    },
    {
      "cell_type": "code",
      "metadata": {
        "id": "rSHmrMl1rjFd"
      },
      "source": [
        "import json\n",
        "import numpy as np\n",
        "from sklearn.model_selection import train_test_split\n",
        "import tensorflow.keras as keras\n",
        "from keras.models import Sequential\n",
        "from keras.layers import Dense, Dropout, Reshape, Activation, BatchNormalization, Conv2D, MaxPooling2D, Flatten\n",
        "import matplotlib.pyplot as plt"
      ],
      "execution_count": 15,
      "outputs": []
    },
    {
      "cell_type": "markdown",
      "metadata": {
        "id": "8-VELpQkrmk9"
      },
      "source": [
        "**Step 2:** Define functions to load and prepare the dataset for the model"
      ]
    },
    {
      "cell_type": "code",
      "metadata": {
        "id": "NYFesrHkrvVX"
      },
      "source": [
        "def load_data(data_path):\n",
        "    \"\"\"Loads training dataset from json file.\n",
        "        :param data_path (str): Path to json file containing data\n",
        "        :return X (ndarray): Inputs\n",
        "        :return y (ndarray): Targets\n",
        "    \"\"\"\n",
        "\n",
        "    print('Loading dataset')\n",
        "\n",
        "    with open(data_path, \"r\") as fp:\n",
        "        data = json.load(fp)\n",
        "\n",
        "    X = np.array(data['features'])\n",
        "    y = np.array(data['labels'])\n",
        "    return X, y\n",
        "\n",
        "\n",
        "def prepare_datasets(test_size, validation_size):\n",
        "    \"\"\"Loads data and splits it into train, validation and test sets.\n",
        "    :param test_size (float): Value in [0, 1] indicating percentage of data set to allocate to test split\n",
        "    :param validation_size (float): Value in [0, 1] indicating percentage of train set to allocate to validation split\n",
        "    :return X_train (ndarray): Input training set\n",
        "    :return X_validation (ndarray): Input validation set\n",
        "    :return X_test (ndarray): Input test set\n",
        "    :return y_train (ndarray): Target training set\n",
        "    :return y_validation (ndarray): Target validation set\n",
        "    :return y_test (ndarray): Target test set\n",
        "    \"\"\"\n",
        "\n",
        "    print('Splitting dataset into training, validation, and test splits')\n",
        "\n",
        "    # load data\n",
        "    X, y = load_data(JSON_PATH)\n",
        "\n",
        "    # create train, validation and test split\n",
        "    X_train, X_test, y_train, y_test = train_test_split(X, y, test_size=test_size)\n",
        "    X_train, X_validation, y_train, y_validation = train_test_split(X_train, y_train, test_size=validation_size)\n",
        "\n",
        "    # add an axis to input sets for conv networks to fit conv2D shape specs\n",
        "    # currently not needed since we reshape everything anyway\n",
        "    # X_train = X_train[..., np.newaxis]\n",
        "    # X_validation = X_validation[..., np.newaxis]\n",
        "    # X_test = X_test[..., np.newaxis]\n",
        "\n",
        "    return X_train, X_validation, X_test, y_train, y_validation, y_test"
      ],
      "execution_count": 16,
      "outputs": []
    },
    {
      "cell_type": "markdown",
      "metadata": {
        "id": "GwzYXN1Qr5UQ"
      },
      "source": [
        "**Step 3:** Define seperate functions for building a dense and a convolutional model"
      ]
    },
    {
      "cell_type": "code",
      "metadata": {
        "id": "bpkZZWWWyOPR"
      },
      "source": [
        "def build_conv_model(input_shape, reshape_shape, number_of_classes):\n",
        "    \"\"\"Generates CNN model\n",
        "    :param input_shape (tuple): Shape of input set\n",
        "    :return model: CNN model\n",
        "    \"\"\"\n",
        "\n",
        "    # build network topology\n",
        "    model = Sequential()\n",
        "\n",
        "    # reshape input from 1D to 2D\n",
        "    model.add(Reshape(reshape_shape, input_shape=input_shape))\n",
        "\n",
        "    # 1st conv layer\n",
        "    model.add(Conv2D(8, (3, 3), activation='relu', padding='same'))\n",
        "    model.add(MaxPooling2D((3, 3), strides=(2, 2), padding='same'))\n",
        "    model.add(BatchNormalization())\n",
        "\n",
        "    # 2nd conv layer\n",
        "    model.add(Conv2D(16, (3, 3), activation='relu', padding='same'))\n",
        "    model.add(MaxPooling2D((3, 3), strides=(2, 2), padding='same'))\n",
        "    model.add(BatchNormalization())\n",
        "\n",
        "    model.add(Conv2D(32, (3, 3), activation='relu', padding='same'))\n",
        "    model.add(MaxPooling2D((3, 3), strides=(2, 2), padding='same'))\n",
        "    model.add(BatchNormalization())\n",
        "\n",
        "    # flatten output and feed it into dense layer\n",
        "    model.add(Flatten())\n",
        "    model.add(Dense(10, activation='relu'))\n",
        "    model.add(Dropout(0.3))\n",
        "\n",
        "    # output layer\n",
        "    model.add(Dense(number_of_classes, activation='softmax'))\n",
        "\n",
        "    return model"
      ],
      "execution_count": 17,
      "outputs": []
    },
    {
      "cell_type": "code",
      "metadata": {
        "id": "U4dmf8Our4xf"
      },
      "source": [
        "def build_dense_model(input_shape, number_of_classes):\n",
        "    \"\"\"Generates CNN model\n",
        "    :param input_shape (tuple): Shape of input set\n",
        "    :return model: CNN model\n",
        "    \"\"\"\n",
        "\n",
        "    # build network topology\n",
        "    model = Sequential()\n",
        "\n",
        "    model.add(Dense(16, activation='relu', input_shape=input_shape))\n",
        "    # model.add(Dropout(0.3))\n",
        "\n",
        "    model.add(Dense(32, activation='relu'))\n",
        "\n",
        "    # model.add(Dense(256, activation='relu'))\n",
        "    # # model.add(Dropout(0.3))\n",
        "\n",
        "    # model.add(Dense(512, activation='relu'))\n",
        "    # # model.add(Dropout(0.3))\n",
        "\n",
        "    # model.add(Dense(256, activation='relu'))\n",
        "\n",
        "    # model.add(Dense(128, activation='relu'))\n",
        "    # # model.add(Dropout(0.3))\n",
        "\n",
        "    model.add(Dense(64, activation='relu'))\n",
        "\n",
        "    # output layer\n",
        "    model.add(Dense(number_of_classes, activation='softmax'))\n",
        "\n",
        "    return model"
      ],
      "execution_count": 18,
      "outputs": []
    },
    {
      "cell_type": "markdown",
      "metadata": {
        "id": "u1zV2CG0sAvQ"
      },
      "source": [
        "**Step 4:** Define function to plot the training history of the model"
      ]
    },
    {
      "cell_type": "code",
      "metadata": {
        "id": "jz9DRkNBuhTF"
      },
      "source": [
        "def plot_history(history):\n",
        "    \"\"\"Plots accuracy/loss for training/validation set as a function of the epochs\n",
        "        :param history: Training history of model\n",
        "        :return:\n",
        "    \"\"\"\n",
        "\n",
        "    fig, axs = plt.subplots(2)\n",
        "\n",
        "    # create accuracy sublpot\n",
        "    axs[0].plot(history.history[\"accuracy\"], label=\"train accuracy\")\n",
        "    axs[0].plot(history.history[\"val_accuracy\"], label=\"test accuracy\")\n",
        "    axs[0].set_ylabel(\"Accuracy\")\n",
        "    axs[0].legend(loc=\"lower right\")\n",
        "    axs[0].set_title(\"Accuracy eval\")\n",
        "\n",
        "    # create error sublpot\n",
        "    axs[1].plot(history.history[\"loss\"], label=\"train error\")\n",
        "    axs[1].plot(history.history[\"val_loss\"], label=\"test error\")\n",
        "    axs[1].set_ylabel(\"Error\")\n",
        "    axs[1].set_xlabel(\"Epoch\")\n",
        "    axs[1].legend(loc=\"upper right\")\n",
        "    axs[1].set_title(\"Error eval\")\n",
        "\n",
        "    plt.show()"
      ],
      "execution_count": 19,
      "outputs": []
    },
    {
      "cell_type": "markdown",
      "metadata": {
        "id": "1uhitZN4t_8y"
      },
      "source": [
        "**Step 5:** Run all of the above functions:"
      ]
    },
    {
      "cell_type": "code",
      "metadata": {
        "id": "yKb7aMsg6cdN",
        "colab": {
          "base_uri": "https://localhost:8080/"
        },
        "outputId": "be680520-3c9d-425b-8cdd-bd2bd2dd8eb0"
      },
      "source": [
        "# get train, validation, test splits\n",
        "X_train, X_validation, X_test, y_train, y_validation, y_test = prepare_datasets(0.25, 0.2)\n",
        "print('Finished preparing training, validation, and test data')\n",
        "print('X_train.shape: {}'.format(X_train.shape))"
      ],
      "execution_count": 20,
      "outputs": [
        {
          "output_type": "stream",
          "text": [
            "Splitting dataset into training, validation, and test splits\n",
            "Loading dataset\n",
            "Finished preparing training, validation, and test data\n",
            "X_train.shape: (6002, 676)\n"
          ],
          "name": "stdout"
        }
      ]
    },
    {
      "cell_type": "markdown",
      "metadata": {
        "id": "mvHUkZjX41S9"
      },
      "source": [
        "**Step 6:** Since when preprocessing the entire dataset we flattened all 2D arrays to 1D arrays, we calculate the original 2D dimentions in order to Reshape in the first layer of our Neural Network."
      ]
    },
    {
      "cell_type": "code",
      "metadata": {
        "id": "7Koahh8P0JwN",
        "colab": {
          "base_uri": "https://localhost:8080/"
        },
        "outputId": "f9206a29-90da-4527-ec4b-113ea15897fc"
      },
      "source": [
        "NUM_OF_SAMPLES = SAMPLE_RATE * EXPECTED_DURATION\n",
        "# none\n",
        "AVERAGED_SIGNAL_ARRAY_SIZE = int(NUM_OF_SAMPLES / 32) # averaging every 32 samples\n",
        "# FFT\n",
        "FFT_ARRAY_SIZE = int((NUM_OF_SAMPLES) / (2 * 16))  # 2 comes from half spectrum, 16 from averaging every 16 samples\n",
        "# STFT, MFCC\n",
        "NUM_OF_WINDOW_POSITIONS = math.ceil(NUM_OF_SAMPLES / WINDOW_STRIDE_SAMPLES)\n",
        "NUM_OF_STFT_FREQUENCIES = int(1 + WINDOW_SIZE_SAMPLES / 2)\n",
        "\n",
        "\n",
        "if PROCESSING_METHOD == 'none':\n",
        "  RESHAPE_SHAPE = (1, AVERAGED_SIGNAL_ARRAY_SIZE, 1)\n",
        "elif PROCESSING_METHOD == 'fft':\n",
        "  RESHAPE_SHAPE = (1, FFT_ARRAY_SIZE, 1)\n",
        "elif PROCESSING_METHOD == 'stft':\n",
        "  RESHAPE_SHAPE = (NUM_OF_WINDOW_POSITIONS, NUM_OF_STFT_FREQUENCIES, 1)\n",
        "else: # mfcc\n",
        "  RESHAPE_SHAPE = (NUM_OF_WINDOW_POSITIONS, MFCC_COEFF_NUMBER, 1)\n",
        "\n",
        "print('processing method: {}, \\nreshape shape: {}'.format(PROCESSING_METHOD, RESHAPE_SHAPE))"
      ],
      "execution_count": 21,
      "outputs": [
        {
          "output_type": "stream",
          "text": [
            "processing method: MFCC, \n",
            "reshape shape: (52, 13, 1)\n"
          ],
          "name": "stdout"
        }
      ]
    },
    {
      "cell_type": "code",
      "metadata": {
        "id": "M4xgyIift_ce",
        "colab": {
          "base_uri": "https://localhost:8080/",
          "height": 1000
        },
        "outputId": "c83a0673-3a86-4fcb-a388-1d2f7d9127cb"
      },
      "source": [
        "network_is_convolutional = True\n",
        "\n",
        "# for convolutional model\n",
        "if network_is_convolutional:\n",
        "  input_shape = (X_train.shape[1],)\n",
        "  print(\"input_shape = {}\".format(input_shape))\n",
        "  model = build_conv_model(input_shape, RESHAPE_SHAPE, NUM_OF_CLASSES)\n",
        "# for dense model\n",
        "else:\n",
        "  input_shape = (X_train.shape[1],)\n",
        "  print(\"input_shape = {}\".format(input_shape))\n",
        "  model = build_dense_model(input_shape, NUM_OF_CLASSES)\n",
        "\n",
        "\n",
        "# compile model\n",
        "optimiser = keras.optimizers.Adam(learning_rate=0.0001)\n",
        "model.compile(optimizer=optimiser,\n",
        "              loss='sparse_categorical_crossentropy',\n",
        "              metrics=['accuracy'])\n",
        "\n",
        "model.summary()\n",
        "\n",
        "# train model\n",
        "history = model.fit(X_train, y_train, validation_data=(X_validation, y_validation), batch_size=32, epochs=20)\n",
        "\n",
        "# plot accuracy/error for training and validation\n",
        "plot_history(history)"
      ],
      "execution_count": 22,
      "outputs": [
        {
          "output_type": "stream",
          "text": [
            "input_shape = (676,)\n",
            "Model: \"sequential\"\n",
            "_________________________________________________________________\n",
            "Layer (type)                 Output Shape              Param #   \n",
            "=================================================================\n",
            "reshape (Reshape)            (None, 52, 13, 1)         0         \n",
            "_________________________________________________________________\n",
            "conv2d (Conv2D)              (None, 52, 13, 8)         80        \n",
            "_________________________________________________________________\n",
            "max_pooling2d (MaxPooling2D) (None, 26, 7, 8)          0         \n",
            "_________________________________________________________________\n",
            "batch_normalization (BatchNo (None, 26, 7, 8)          32        \n",
            "_________________________________________________________________\n",
            "conv2d_1 (Conv2D)            (None, 26, 7, 16)         1168      \n",
            "_________________________________________________________________\n",
            "max_pooling2d_1 (MaxPooling2 (None, 13, 4, 16)         0         \n",
            "_________________________________________________________________\n",
            "batch_normalization_1 (Batch (None, 13, 4, 16)         64        \n",
            "_________________________________________________________________\n",
            "conv2d_2 (Conv2D)            (None, 13, 4, 32)         4640      \n",
            "_________________________________________________________________\n",
            "max_pooling2d_2 (MaxPooling2 (None, 7, 2, 32)          0         \n",
            "_________________________________________________________________\n",
            "batch_normalization_2 (Batch (None, 7, 2, 32)          128       \n",
            "_________________________________________________________________\n",
            "flatten (Flatten)            (None, 448)               0         \n",
            "_________________________________________________________________\n",
            "dense (Dense)                (None, 10)                4490      \n",
            "_________________________________________________________________\n",
            "dropout (Dropout)            (None, 10)                0         \n",
            "_________________________________________________________________\n",
            "dense_1 (Dense)              (None, 4)                 44        \n",
            "=================================================================\n",
            "Total params: 10,646\n",
            "Trainable params: 10,534\n",
            "Non-trainable params: 112\n",
            "_________________________________________________________________\n",
            "Epoch 1/20\n",
            "188/188 [==============================] - 6s 30ms/step - loss: 1.1907 - accuracy: 0.4562 - val_loss: 1.0732 - val_accuracy: 0.6376\n",
            "Epoch 2/20\n",
            "188/188 [==============================] - 5s 27ms/step - loss: 0.9092 - accuracy: 0.6086 - val_loss: 0.7710 - val_accuracy: 0.7375\n",
            "Epoch 3/20\n",
            "188/188 [==============================] - 5s 28ms/step - loss: 0.7639 - accuracy: 0.6844 - val_loss: 0.6225 - val_accuracy: 0.8008\n",
            "Epoch 4/20\n",
            "188/188 [==============================] - 5s 29ms/step - loss: 0.6740 - accuracy: 0.7329 - val_loss: 0.5114 - val_accuracy: 0.8328\n",
            "Epoch 5/20\n",
            "188/188 [==============================] - 6s 30ms/step - loss: 0.6007 - accuracy: 0.7662 - val_loss: 0.4493 - val_accuracy: 0.8588\n",
            "Epoch 6/20\n",
            "188/188 [==============================] - 6s 30ms/step - loss: 0.5521 - accuracy: 0.7857 - val_loss: 0.4043 - val_accuracy: 0.8834\n",
            "Epoch 7/20\n",
            "188/188 [==============================] - 6s 31ms/step - loss: 0.5150 - accuracy: 0.7966 - val_loss: 0.3686 - val_accuracy: 0.8921\n",
            "Epoch 8/20\n",
            "188/188 [==============================] - 6s 30ms/step - loss: 0.4774 - accuracy: 0.8129 - val_loss: 0.3389 - val_accuracy: 0.8967\n",
            "Epoch 9/20\n",
            "188/188 [==============================] - 6s 30ms/step - loss: 0.4401 - accuracy: 0.8257 - val_loss: 0.3077 - val_accuracy: 0.9074\n",
            "Epoch 10/20\n",
            "188/188 [==============================] - 5s 29ms/step - loss: 0.4100 - accuracy: 0.8369 - val_loss: 0.2868 - val_accuracy: 0.9101\n",
            "Epoch 11/20\n",
            "188/188 [==============================] - 5s 29ms/step - loss: 0.3831 - accuracy: 0.8509 - val_loss: 0.2916 - val_accuracy: 0.9067\n",
            "Epoch 12/20\n",
            "188/188 [==============================] - 6s 31ms/step - loss: 0.3707 - accuracy: 0.8595 - val_loss: 0.2742 - val_accuracy: 0.9121\n",
            "Epoch 13/20\n",
            "188/188 [==============================] - 6s 30ms/step - loss: 0.3395 - accuracy: 0.8712 - val_loss: 0.2483 - val_accuracy: 0.9174\n",
            "Epoch 14/20\n",
            "188/188 [==============================] - 6s 31ms/step - loss: 0.3279 - accuracy: 0.8804 - val_loss: 0.2602 - val_accuracy: 0.9067\n",
            "Epoch 15/20\n",
            "188/188 [==============================] - 6s 32ms/step - loss: 0.3101 - accuracy: 0.8809 - val_loss: 0.2352 - val_accuracy: 0.9194\n",
            "Epoch 16/20\n",
            "188/188 [==============================] - 6s 35ms/step - loss: 0.3082 - accuracy: 0.8857 - val_loss: 0.2182 - val_accuracy: 0.9267\n",
            "Epoch 17/20\n",
            "188/188 [==============================] - 6s 30ms/step - loss: 0.2793 - accuracy: 0.8990 - val_loss: 0.2159 - val_accuracy: 0.9234\n",
            "Epoch 18/20\n",
            "188/188 [==============================] - 5s 29ms/step - loss: 0.2710 - accuracy: 0.8985 - val_loss: 0.2028 - val_accuracy: 0.9314\n",
            "Epoch 19/20\n",
            "188/188 [==============================] - 6s 30ms/step - loss: 0.2574 - accuracy: 0.9029 - val_loss: 0.1931 - val_accuracy: 0.9320\n",
            "Epoch 20/20\n",
            "188/188 [==============================] - 6s 29ms/step - loss: 0.2470 - accuracy: 0.9080 - val_loss: 0.1983 - val_accuracy: 0.9327\n"
          ],
          "name": "stdout"
        },
        {
          "output_type": "display_data",
          "data": {
            "image/png": "[encoded data removed]",
            "text/plain": [
              "<Figure size 432x288 with 2 Axes>"
            ]
          },
          "metadata": {
            "tags": [],
            "needs_background": "light"
          }
        }
      ]
    },
    {
      "cell_type": "markdown",
      "metadata": {
        "id": "ZcG0tIUzV-UR"
      },
      "source": [
        "**Step 7:** Evaluate the model's test accuracy"
      ]
    },
    {
      "cell_type": "code",
      "metadata": {
        "id": "sLWEe0hsWCni",
        "colab": {
          "base_uri": "https://localhost:8080/"
        },
        "outputId": "2608d1b3-019f-426f-82c6-39f0a79233b4"
      },
      "source": [
        "test_loss, test_acc = model.evaluate(X_test, y_test, verbose=2)\n",
        "print('\\nTest accuracy:', test_acc)"
      ],
      "execution_count": 23,
      "outputs": [
        {
          "output_type": "stream",
          "text": [
            "79/79 - 1s - loss: 0.2134 - accuracy: 0.9257\n",
            "\n",
            "Test accuracy: 0.9256594777107239\n"
          ],
          "name": "stdout"
        }
      ]
    },
    {
      "cell_type": "markdown",
      "metadata": {
        "id": "Ym2VPa_GqUUG"
      },
      "source": [
        "### 4) Save model and convert to desired formats:"
      ]
    },
    {
      "cell_type": "markdown",
      "metadata": {
        "id": "KG0mAr41po2x"
      },
      "source": [
        "Save keras model as an .h5 file."
      ]
    },
    {
      "cell_type": "code",
      "metadata": {
        "id": "Y5Ay09Hr1CzD"
      },
      "source": [
        "model.save('generated_model.h5')"
      ],
      "execution_count": 24,
      "outputs": []
    },
    {
      "cell_type": "markdown",
      "metadata": {
        "id": "WM4WBSa7p1-I"
      },
      "source": [
        "Convert the model to a (currently not quantized due to commented out lines) tflite model."
      ]
    },
    {
      "cell_type": "code",
      "metadata": {
        "id": "oEQYCXLUbbSZ",
        "colab": {
          "base_uri": "https://localhost:8080/"
        },
        "outputId": "c778476b-4e76-4959-a535-f7b465d95d41"
      },
      "source": [
        "# Convert the model to the TensorFlow Lite format with quantization\n",
        "converter = tf.lite.TFLiteConverter.from_keras_model(model)\n",
        "\n",
        "\n",
        "# converter.optimizations = [tf.lite.Optimize.DEFAULT]\n",
        "\n",
        "# def representative_dataset_generator():\n",
        "#   for value in X_test:\n",
        "#     yield [np.array(value, dtype = np.float32, ndmin=4)]\n",
        "\n",
        "# converter.representative_dataset = representative_dataset_generator\n",
        "\n",
        "tflite_model = converter.convert()\n",
        "\n",
        "# Save the model to disk\n",
        "open('generated_model.tflite', \"wb\").write(tflite_model)\n",
        "\n",
        "import os\n",
        "basic_model_size = os.path.getsize('generated_model.tflite')\n",
        "print(\"Model is %d bytes\" % basic_model_size)"
      ],
      "execution_count": 25,
      "outputs": [
        {
          "output_type": "stream",
          "text": [
            "Model is 47324 bytes\n"
          ],
          "name": "stdout"
        }
      ]
    },
    {
      "cell_type": "markdown",
      "metadata": {
        "id": "Bt2aD7aUoEuS"
      },
      "source": [
        "Convert model from tflite file to byte array for deployment on Arduino."
      ]
    },
    {
      "cell_type": "code",
      "metadata": {
        "id": "-1OgjXKln-b3"
      },
      "source": [
        "!apt-get -qq install xxd\n",
        "!xxd -i generated_model.tflite > generated_model.cc"
      ],
      "execution_count": 27,
      "outputs": []
    }
  ]
}