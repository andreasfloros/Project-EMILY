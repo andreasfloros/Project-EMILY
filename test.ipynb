{
 "cells": [
  {
   "cell_type": "markdown",
   "id": "4de34123",
   "metadata": {},
   "source": [
    "[![Open In Colab](https://colab.research.google.com/assets/colab-badge.svg)](https://colab.research.google.com/github/andreasfloros/ARM-ML-Embedded/blob/main/test.ipynb)"
   ]
  },
  {
   "cell_type": "code",
   "execution_count": null,
   "id": "1f661d28",
   "metadata": {},
   "outputs": [],
   "source": [
    "dict = {lst: [1, 2, 3, 5], name: 'first'}"
   ]
  },
  {
   "cell_type": "code",
   "execution_count": null,
   "id": "b42e1e82",
   "metadata": {},
   "outputs": [],
   "source": [
    "dict.items()"
   ]
  }
 ],
 "metadata": {
  "kernelspec": {
   "display_name": "Python 3",
   "language": "python",
   "name": "python3"
  },
  "language_info": {
   "codemirror_mode": {
    "name": "ipython",
    "version": 3
   },
   "file_extension": ".py",
   "mimetype": "text/x-python",
   "name": "python",
   "nbconvert_exporter": "python",
   "pygments_lexer": "ipython3",
   "version": "3.9.4"
  }
 },
 "nbformat": 4,
 "nbformat_minor": 5
}
