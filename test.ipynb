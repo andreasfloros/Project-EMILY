{
 "cells": [
  {
   "cell_type": "code",
   "execution_count": 2,
   "id": "87735c49",
   "metadata": {},
   "outputs": [
    {
     "name": "stdout",
     "output_type": "stream",
     "text": [
      "fucking hope this works\n"
     ]
    }
   ],
   "source": [
    "print('fucking hope this works')"
   ]
  },
  {
   "cell_type": "code",
   "execution_count": null,
   "id": "4e7d0360",
   "metadata": {},
   "outputs": [],
   "source": []
  },
  {
   "cell_type": "code",
   "execution_count": 3,
   "id": "4717edd8",
   "metadata": {},
   "outputs": [
    {
     "name": "stdout",
     "output_type": "stream",
     "text": [
      "jeez\n"
     ]
    }
   ],
   "source": [
    "print('jeez')"
   ]
  },
  {
   "cell_type": "code",
   "execution_count": 4,
   "id": "6bd088da",
   "metadata": {},
   "outputs": [],
   "source": [
    "x = [1, 2, 3, 5, 'gotcha']"
   ]
  },
  {
   "cell_type": "code",
   "execution_count": 5,
   "id": "cea17d72",
   "metadata": {},
   "outputs": [
    {
     "data": {
      "text/plain": [
       "[1, 2, 3, 5, 'gotcha']"
      ]
     },
     "execution_count": 5,
     "metadata": {},
     "output_type": "execute_result"
    }
   ],
   "source": [
    "x"
   ]
  },
  {
   "cell_type": "code",
   "execution_count": null,
   "id": "e12db830",
   "metadata": {},
   "outputs": [],
   "source": []
  }
 ],
 "metadata": {
  "kernelspec": {
   "display_name": "Python 3",
   "language": "python",
   "name": "python3"
  },
  "language_info": {
   "codemirror_mode": {
    "name": "ipython",
    "version": 3
   },
   "file_extension": ".py",
   "mimetype": "text/x-python",
   "name": "python",
   "nbconvert_exporter": "python",
   "pygments_lexer": "ipython3",
   "version": "3.9.4"
  }
 },
 "nbformat": 4,
 "nbformat_minor": 5
}
