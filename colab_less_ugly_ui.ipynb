{
  "nbformat": 4,
  "nbformat_minor": 0,
  "metadata": {
    "colab": {
      "name": "Untitled3.ipynb",
      "provenance": [],
      "authorship_tag": "ABX9TyMfdLusvIYU2zl7b3hKUi4z",
      "include_colab_link": true
    },
    "kernelspec": {
      "name": "python3",
      "display_name": "Python 3"
    },
    "language_info": {
      "name": "python"
    },
    "widgets": {
      "application/vnd.jupyter.widget-state+json": {
        "6f58321caaa64861b907875da4c024f2": {
          "model_module": "@jupyter-widgets/controls",
          "model_name": "ToggleButtonsModel",
          "state": {
            "_options_labels": [
              "None",
              "FFT",
              "STFT",
              "MFCC"
            ],
            "_view_name": "ToggleButtonsView",
            "style": "IPY_MODEL_38c49fe20860451a90bbdf85f0ec9d7d",
            "_dom_classes": [],
            "description": "Processing:",
            "_model_name": "ToggleButtonsModel",
            "tooltips": [],
            "index": 2,
            "button_style": "",
            "_view_module": "@jupyter-widgets/controls",
            "_model_module_version": "1.5.0",
            "_view_count": null,
            "disabled": false,
            "_view_module_version": "1.5.0",
            "icons": [],
            "description_tooltip": null,
            "_model_module": "@jupyter-widgets/controls",
            "layout": "IPY_MODEL_3c2d33f62ad4490fb7390d61d07b2130"
          }
        },
        "38c49fe20860451a90bbdf85f0ec9d7d": {
          "model_module": "@jupyter-widgets/controls",
          "model_name": "ToggleButtonsStyleModel",
          "state": {
            "_view_name": "StyleView",
            "button_width": "",
            "_model_name": "ToggleButtonsStyleModel",
            "description_width": "",
            "_view_module": "@jupyter-widgets/base",
            "_model_module_version": "1.5.0",
            "_view_count": null,
            "font_weight": "",
            "_view_module_version": "1.2.0",
            "_model_module": "@jupyter-widgets/controls"
          }
        },
        "3c2d33f62ad4490fb7390d61d07b2130": {
          "model_module": "@jupyter-widgets/base",
          "model_name": "LayoutModel",
          "state": {
            "_view_name": "LayoutView",
            "grid_template_rows": null,
            "right": null,
            "justify_content": null,
            "_view_module": "@jupyter-widgets/base",
            "overflow": null,
            "_model_module_version": "1.2.0",
            "_view_count": null,
            "flex_flow": null,
            "width": null,
            "min_width": null,
            "border": null,
            "align_items": null,
            "bottom": null,
            "_model_module": "@jupyter-widgets/base",
            "top": null,
            "grid_column": null,
            "overflow_y": null,
            "overflow_x": null,
            "grid_auto_flow": null,
            "grid_area": null,
            "grid_template_columns": null,
            "flex": null,
            "_model_name": "LayoutModel",
            "justify_items": null,
            "grid_row": null,
            "max_height": null,
            "align_content": null,
            "visibility": null,
            "align_self": null,
            "height": null,
            "min_height": null,
            "padding": null,
            "grid_auto_rows": null,
            "grid_gap": null,
            "max_width": null,
            "order": null,
            "_view_module_version": "1.2.0",
            "grid_template_areas": null,
            "object_position": null,
            "object_fit": null,
            "grid_auto_columns": null,
            "margin": null,
            "display": null,
            "left": null
          }
        }
      }
    }
  },
  "cells": [
    {
      "cell_type": "markdown",
      "metadata": {
        "id": "view-in-github",
        "colab_type": "text"
      },
      "source": [
        "<a href=\"https://colab.research.google.com/github/andreasfloros/ARM-ML-Embedded/blob/main/colab_less_ugly_ui.ipynb\" target=\"_parent\"><img src=\"https://colab.research.google.com/assets/colab-badge.svg\" alt=\"Open In Colab\"/></a>"
      ]
    },
    {
      "cell_type": "code",
      "metadata": {
        "id": "zjrMvz83Fchc"
      },
      "source": [
        "#@title ## **Input Parameters**\n",
        "\n",
        "\n",
        "#@markdown _\n",
        "\n",
        "#@markdown ####**1. Dataset selection:**\n",
        "#@markdown Copy and paste the URL of the dataset to be used. To change between datasets change the url to one which downloads a .tar file.\n",
        "#@markdown Default dataset: Speech Commands\n",
        "\n",
        "\n",
        "dataset_url = 'http://download.tensorflow.org/data/speech_commands_v0.02.tar.gz' #@param {type: 'string'}\n",
        "\n",
        "#@markdown _\n",
        "\n",
        "#@markdown ####**2. Processing method:**\n",
        "\n",
        "#@markdown Choose between processing methods (None/FFT/STFT/MFCC) by clicking on the dropdown menu arrow.\n",
        "#@markdown Default processing method: None\n",
        "\n",
        "processing_method = 'None' #@param ['None', 'FFT', 'STFT', 'MFCC'] {allow-input: true}\n",
        "\n",
        "#@markdown _\n",
        "\n",
        "#@markdown ####**3. Processing parameters:**\n",
        "\n",
        "#@markdown Different parameters must be set depending on the processing method used. This is depicted in the following table. \n",
        "#@markdown If a parameter does not say 'YES' for your processing method of choice, please leave it at its default value.\n",
        "\n",
        "#@markdown |||/| sample_rate |/| expected_duration |/| window_size |/| window_stride |/| mfcc_coeff_number\n",
        "#@markdown ------------ ||| ------------- || ------------- || ------------- || ------------- || -------------\n",
        "#@markdown None ||/| YES |/| YES |/|  |/|  |/|\n",
        "#@markdown FFT  ||/| YES |/| YES |/|  |/|  |/|\n",
        "#@markdown STFT ||/| YES |/| YES |/| YES |/| YES |/|\n",
        "#@markdown MFCC ||/| YES |/| YES |/| YES |/| YES |/| YES\n",
        "\n",
        "#@markdown _\n",
        "\n",
        "#@markdown Only two values are allowed for the sampling rate so please choose from the dropdown menu. \n",
        "#@markdown Also note that the expected duration of the audio track is in seconds.\n",
        "\n",
        "sample_rate = \"16000\" #@param [16000, 44100] {allow-input: true}\n",
        "expected_duration = 1.024 #@param {type: 'number'}\n",
        "\n",
        "#@markdown _\n",
        "\n",
        "#@markdown Only powers of two are allowed as window size for the STFT and MFCC algorithms so please choose from the dropdown menu. Note that this constraint is not valid for the window stride.\n",
        "window_size = \"256\" #@param [256, 512, 1024, 2048, 4096, 8192] {allow-input: true}\n",
        "window_stride =  320 #@param {type: 'number'}\n",
        "mfcc_coeff_number = 13 #@param {type: 'number'}\n",
        "\n",
        "#@markdown _\n",
        "\n",
        "#@markdown ####**4. Neural Network parameters:**\n",
        "\n",
        "#@markdown Choose the number of classes between which you're classifying.\n",
        "\n",
        "num_of_classes = 4 #@param {type: 'number'}\n",
        "\n",
        "JSON_PATH = 'data.json'\n",
        "PROCESSING_METHOD = 'mfcc'\n",
        "\n"
      ],
      "execution_count": 25,
      "outputs": []
    },
    {
      "cell_type": "code",
      "metadata": {
        "id": "Y5vfMJFR8Gd7",
        "outputId": "c26b63f3-c628-4857-d157-8455ee51e262",
        "colab": {
          "base_uri": "https://localhost:8080/",
          "height": 67,
          "referenced_widgets": [
            "6f58321caaa64861b907875da4c024f2",
            "38c49fe20860451a90bbdf85f0ec9d7d",
            "3c2d33f62ad4490fb7390d61d07b2130"
          ]
        }
      },
      "source": [
        "import ipywidgets as widgets\n",
        "# from IPython.display import display\n",
        "\n",
        "\n",
        "PROCESSING_METHOD = widgets.ToggleButtons(\n",
        "    options=['None', 'FFT', 'STFT', 'MFCC'],\n",
        "    description='Processing:',\n",
        "    disabled=False,\n",
        "    button_style='', # 'success', 'info', 'warning', 'danger' or ''\n",
        ")\n",
        "\n",
        "\n",
        "\n",
        "# button = widgets.Button(description=\"Run Everything!\")\n",
        "\n",
        "# def print_stuff(str):\n",
        "#   print(str)\n",
        "\n",
        "# def on_button_clicked(b):\n",
        "#   # Display the message within the output widget.\n",
        "#   print_stuff('fek')\n",
        "\n",
        "# button.on_click(on_button_clicked)\n",
        "display(PROCESSING_METHOD)\n",
        "print(PROCESSING_METHOD)"
      ],
      "execution_count": 19,
      "outputs": [
        {
          "output_type": "display_data",
          "data": {
            "application/vnd.jupyter.widget-view+json": {
              "model_id": "6f58321caaa64861b907875da4c024f2",
              "version_minor": 0,
              "version_major": 2
            },
            "text/plain": [
              "ToggleButtons(description='Processing:', options=('None', 'FFT', 'STFT', 'MFCC'), value='None')"
            ]
          },
          "metadata": {
            "tags": []
          }
        },
        {
          "output_type": "stream",
          "text": [
            "ToggleButtons(description='Processing:', options=('None', 'FFT', 'STFT', 'MFCC'), value='None')\n"
          ],
          "name": "stdout"
        }
      ]
    }
  ]
}