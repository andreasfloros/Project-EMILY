{
  "nbformat": 4,
  "nbformat_minor": 0,
  "metadata": {
    "colab": {
      "name": "Untitled3.ipynb",
      "provenance": [],
      "authorship_tag": "ABX9TyPXOWAofqJrofJH8yD6uO7m",
      "include_colab_link": true
    },
    "kernelspec": {
      "name": "python3",
      "display_name": "Python 3"
    },
    "language_info": {
      "name": "python"
    }
  },
  "cells": [
    {
      "cell_type": "markdown",
      "metadata": {
        "id": "view-in-github",
        "colab_type": "text"
      },
      "source": [
        "<a href=\"https://colab.research.google.com/github/andreasfloros/ARM-ML-Embedded/blob/main/colab_less_ugly_ui.ipynb\" target=\"_parent\"><img src=\"https://colab.research.google.com/assets/colab-badge.svg\" alt=\"Open In Colab\"/></a>"
      ]
    },
    {
      "cell_type": "code",
      "metadata": {
        "id": "zjrMvz83Fchc"
      },
      "source": [
        "#@title ## **Input Parameters**\n",
        "\n",
        "\n",
        "#@markdown _\n",
        "\n",
        "#@markdown ####**1. Dataset selection:**\n",
        "#@markdown Copy and paste the URL of the dataset to be used. To change between datasets change the url to one which downloads a .tar file.\n",
        "\n",
        "#@markdown *Default:* Speech Commands\n",
        "\n",
        "\n",
        "dataset_url = 'http://download.tensorflow.org/data/speech_commands_v0.02.tar.gz' #@param {type: 'string'}\n",
        "\n",
        "#@markdown _\n",
        "\n",
        "#@markdown ####**2. Processing method:**\n",
        "\n",
        "#@markdown Choose between processing methods (None/FFT/STFT/MFCC) by clicking on the dropdown menu arrow.\n",
        "\n",
        "#@markdown *Default:* None\n",
        "\n",
        "processing_method = 'None' #@param ['None', 'FFT', 'STFT', 'MFCC'] {allow-input: true}\n",
        "\n",
        "#@markdown _\n",
        "\n",
        "#@markdown ####**3. Processing parameters:**\n",
        "\n",
        "#@markdown Different parameters must be set depending on the processing method used. This is depicted in the following table. \n",
        "#@markdown If a parameter does not say 'YES' for your processing method of choice, please leave it at its default value.\n",
        "\n",
        "#@markdown |||/| sample_rate |/| expected_duration |/| window_size |/| window_stride |/| mfcc_coeff_number\n",
        "#@markdown ------------ ||| ------------- || ------------- || ------------- || ------------- || -------------\n",
        "#@markdown None ||/| YES |/| YES |/|  |/|  |/|\n",
        "#@markdown FFT  ||/| YES |/| YES |/|  |/|  |/|\n",
        "#@markdown STFT ||/| YES |/| YES |/| YES |/| YES |/|\n",
        "#@markdown MFCC ||/| YES |/| YES |/| YES |/| YES |/| YES\n",
        "\n",
        "#@markdown _\n",
        "\n",
        "#@markdown Only two values are allowed for the sampling rate so please choose from the dropdown menu. \n",
        "#@markdown Also note that the expected duration of the audio track is in seconds.\n",
        "\n",
        "sample_rate = \"16000\" #@param [16000, 44100] {allow-input: true}\n",
        "expected_duration = 1.024 #@param {type: 'number'}\n",
        "\n",
        "#@markdown _\n",
        "\n",
        "#@markdown Only powers of two are allowed as window size for the STFT and MFCC algorithms so please choose from the dropdown menu. Note that this constraint is not valid for the window stride.\n",
        "window_size = \"256\" #@param [256, 512, 1024, 2048, 4096, 8192] {allow-input: true}\n",
        "window_stride =  320 #@param {type: 'number'}\n",
        "mfcc_coeff_number = 13 #@param {type: 'number'}\n",
        "\n",
        "#@markdown _\n",
        "\n",
        "#@markdown ####**4. Neural Network parameters:**\n",
        "\n",
        "#@markdown Choose the number of classes between which you're classifying.\n",
        "\n",
        "num_of_classes = 4 #@param {type: 'number'}\n",
        "\n",
        "JSON_PATH = 'data.json'\n",
        "PROCESSING_METHOD = 'mfcc'"
      ],
      "execution_count": 25,
      "outputs": []
    }
  ]
}