{
  "nbformat": 4,
  "nbformat_minor": 0,
  "metadata": {
    "colab": {
      "name": "first_model.ipynb",
      "provenance": [],
      "authorship_tag": "ABX9TyNgShgZ0uuqmuseN7kVuno3",
      "include_colab_link": true
    },
    "kernelspec": {
      "name": "python3",
      "display_name": "Python 3"
    },
    "language_info": {
      "name": "python"
    }
  },
  "cells": [
    {
      "cell_type": "markdown",
      "metadata": {
        "id": "view-in-github",
        "colab_type": "text"
      },
      "source": [
        "<a href=\"https://colab.research.google.com/github/andreasfloros/ARM-ML-Embedded/blob/main/first_model.ipynb\" target=\"_parent\"><img src=\"https://colab.research.google.com/assets/colab-badge.svg\" alt=\"Open In Colab\"/></a>"
      ]
    },
    {
      "cell_type": "markdown",
      "metadata": {
        "id": "LuYPTLtkz_ee"
      },
      "source": [
        "random text"
      ]
    },
    {
      "cell_type": "code",
      "metadata": {
        "id": "sPHCGeUDzqFJ"
      },
      "source": [
        "# create test dict\n",
        "dict = {'lst': [1, 2, 3, 5], 'name': 'first'}"
      ],
      "execution_count": 2,
      "outputs": []
    },
    {
      "cell_type": "code",
      "metadata": {
        "id": "76ciNseYzxvQ",
        "outputId": "e8372093-e91f-433c-bb7a-37e93291fb95",
        "colab": {
          "base_uri": "https://localhost:8080/"
        }
      },
      "source": [
        "# print test dict items\n",
        "print(dict.items())"
      ],
      "execution_count": 3,
      "outputs": [
        {
          "output_type": "stream",
          "text": [
            "dict_items([('lst', [1, 2, 3, 5]), ('name', 'first')])\n"
          ],
          "name": "stdout"
        }
      ]
    },
    {
      "cell_type": "markdown",
      "metadata": {
        "id": "2Kbr6SIC0ZH3"
      },
      "source": [
        "this is an addition of the second commit"
      ]
    },
    {
      "cell_type": "code",
      "metadata": {
        "id": "i5lwq5kn0dsF"
      },
      "source": [
        ""
      ],
      "execution_count": null,
      "outputs": []
    }
  ]
}