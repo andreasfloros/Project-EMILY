{
  "nbformat": 4,
  "nbformat_minor": 0,
  "metadata": {
    "colab": {
      "name": "key_word_model1.ipynb",
      "provenance": [],
      "collapsed_sections": [],
      "include_colab_link": true
    },
    "kernelspec": {
      "name": "python3",
      "display_name": "Python 3"
    },
    "language_info": {
      "name": "python"
    }
  },
  "cells": [
    {
      "cell_type": "markdown",
      "metadata": {
        "id": "view-in-github",
        "colab_type": "text"
      },
      "source": [
        "<a href=\"https://colab.research.google.com/github/andreasfloros/ARM-ML-Embedded/blob/main/audio_classifier_pipeline.ipynb\" target=\"_parent\"><img src=\"https://colab.research.google.com/assets/colab-badge.svg\" alt=\"Open In Colab\"/></a>"
      ]
    },
    {
      "cell_type": "markdown",
      "metadata": {
        "id": "qhjmJcqIe4Ku"
      },
      "source": [
        "# Audio classifier pipeline\n",
        "### 1) Download and untar dataset directly to colab:\n",
        "\n",
        "To change between datasets change the url to one which downloads a .tar file."
      ]
    },
    {
      "cell_type": "code",
      "metadata": {
        "id": "hROJGZ_rWPGa"
      },
      "source": [
        "import os\n",
        "import requests\n",
        "import tarfile\n",
        "\n",
        "DATASET_ROOT_DIR = 'audio_data/'\n",
        "os.mkdir(DATASET_ROOT_DIR)\n",
        "url = 'http://download.tensorflow.org/data/speech_commands_v0.02.tar.gz'\n",
        "target_path = 'audio_data/dataset.tar.gz'\n",
        "\n",
        "response = requests.get(url, stream=True)\n",
        "if response.status_code == 200:\n",
        "    with open(target_path, 'wb') as f:\n",
        "        f.write(response.raw.read())\n",
        "\n",
        "tar = tarfile.open(target_path, \"r:gz\")\n",
        "tar.extractall(path='audio_data/')\n",
        "tar.close()"
      ],
      "execution_count": 1,
      "outputs": []
    },
    {
      "cell_type": "markdown",
      "metadata": {
        "id": "m_mTATcwlAle"
      },
      "source": [
        "### 2) Preprocess dataset:\n",
        "\n",
        "We iterate through the entire dataset, process every audio track using a processing method (either FFT, STFT, or MFCC), and store all of them in a JSON file. Currently, the user is able to control the processing method, expected duration of the audio tracks, the sample rate, as well as other values related to the processing methods.\n",
        "\n",
        "Potentially, the user might also be able (in the future) to automatically go through all processing methods and use the one which optimizes the current model accuracy.\n",
        "\n",
        "The process explained above can be completed through the following steps."
      ]
    },
    {
      "cell_type": "markdown",
      "metadata": {
        "id": "u-hzEODswh24"
      },
      "source": [
        "**Step 1:** Import necessary libraries"
      ]
    },
    {
      "cell_type": "code",
      "metadata": {
        "id": "q868TWmywSTW"
      },
      "source": [
        "import os\n",
        "import librosa\n",
        "import math\n",
        "import json\n",
        "import numpy as np"
      ],
      "execution_count": 9,
      "outputs": []
    },
    {
      "cell_type": "markdown",
      "metadata": {
        "id": "1Jsjd9sGwsbw"
      },
      "source": [
        "**Step 2:** Function to extend/cut tracks appropriately so that all contain the expected number of samples"
      ]
    },
    {
      "cell_type": "code",
      "metadata": {
        "id": "ExNJOdGAwUS3"
      },
      "source": [
        "def make_track_correct_size(signal, expected_num_samples_per_track):\n",
        "\n",
        "    # print('Original track length: {}'.format(len(signal)))\n",
        "    # if track is shorter than expected, append it with zeros\n",
        "    if len(signal) < expected_num_samples_per_track:\n",
        "      num_zeros_to_pad = expected_num_samples_per_track - len(signal)\n",
        "      zeros = num_zeros_to_pad * [0.]\n",
        "      extended_signal = np.append(signal, zeros)\n",
        "      return extended_signal\n",
        "\n",
        "    # if track is longer than expected, truncate it\n",
        "    elif len(signal) > expected_num_samples_per_track:\n",
        "      return signal[:expected_num_samples_per_track]\n",
        "\n",
        "    # else return the original track \n",
        "    else:\n",
        "      return signal"
      ],
      "execution_count": 3,
      "outputs": []
    },
    {
      "cell_type": "markdown",
      "metadata": {
        "id": "w5KBOt9mw9o-"
      },
      "source": [
        "**Step 3:** Define function to process a single track using the method specified as input and return the data structure containing the result. This function will be called for all tracks within the dataset"
      ]
    },
    {
      "cell_type": "code",
      "metadata": {
        "id": "-ndxpmhtwYhw"
      },
      "source": [
        "def audio_track_to_features(signal, processing_method, sample_rate, window_size, window_stride, num_mfcc):\n",
        "\n",
        "  if processing_method == 'fft':\n",
        "    # perform Fast Fourier Transform (FFT)\n",
        "    fft = np.fft.fft(signal)\n",
        "\n",
        "    # calculate abs values on complex numbers to get magnitude\n",
        "    spectrum = np.abs(fft)\n",
        "\n",
        "    # the spectrum is symmetrical with respect to sample_rate / 2\n",
        "    # so take half of the spectrum and frequency arrays\n",
        "    # therefore len(half_spectrum) = sample_rate / 2\n",
        "    half_spectrum = spectrum[:int(len(spectrum)/2)]\n",
        "\n",
        "    # average every 10 samples to reduce size of array to 1 / 10 of its original size\n",
        "    averaged = np.mean(half_spectrum.reshape(-1, 10), axis=1)\n",
        "    return averaged\n",
        "\n",
        "\n",
        "  elif processing_method == 'stft':\n",
        "    # perform Short Time Fourier Transform (STFT)\n",
        "    stft = librosa.stft(signal, n_fft=window_size, hop_length=window_stride)\n",
        "\n",
        "    # calculate abs values on complex numbers to get magnitude\n",
        "    spectrogram = np.abs(stft)\n",
        "\n",
        "    # transpose and return the spectrogram matrix\n",
        "    transposed_spectrogram = spectrogram.transpose()\n",
        "    return transposed_spectrogram\n",
        "\n",
        "\n",
        "  else: # mfcc\n",
        "    # perform Mel-Frequency Cepstral Coefficients (MFCC)\n",
        "    mfcc = librosa.feature.mfcc(signal, \n",
        "                                sr = sample_rate, \n",
        "                                n_fft = window_size, \n",
        "                                n_mfcc = num_mfcc,\n",
        "                                hop_length = window_stride)\n",
        "    # transpose and return the mfcc matrix\n",
        "    transposed_mfcc = mfcc.T\n",
        "    return transposed_mfcc"
      ],
      "execution_count": 21,
      "outputs": []
    },
    {
      "cell_type": "markdown",
      "metadata": {
        "id": "IcI71k9s1tg2"
      },
      "source": [
        "**Step 4:** Define function to process every audio track and create a JSON file with the entire processed dataset"
      ]
    },
    {
      "cell_type": "code",
      "metadata": {
        "id": "XBwlSAsbfyKi"
      },
      "source": [
        "def preprocess_entire_dataset(dataset_path, json_path, processing_method, sample_rate, expected_duration, window_size, window_stride, num_mfcc):\n",
        "  # expected duration is in seconds\n",
        "  expected_num_samples_per_track = expected_duration * sample_rate\n",
        "  \n",
        "  # dictionary to later be converted to final json file\n",
        "  data = {\n",
        "      'mapping' : [],\n",
        "      'features' : [],\n",
        "      'labels' : []\n",
        "  }\n",
        "\n",
        "  # iterate through all subfolders\n",
        "  for i, (dirpath, dirnames, filenames) in enumerate(os.walk(dataset_path)):\n",
        "\n",
        "    # # ensure we are not at the dataset root directory\n",
        "    # # (os.walk provides this directory as well)\n",
        "    if dirpath is not DATASET_ROOT_DIR:\n",
        "\n",
        "      # obtain word labels\n",
        "      dirpath_components = dirpath.split('/') # audio_data/left => ['audio_data', 'left']\n",
        "      word_label = dirpath_components[-1]\n",
        "      data['mapping'].append(word_label)\n",
        "      print('Processing {}'.format(word_label))\n",
        "\n",
        "      # access and process files for current word\n",
        "      for f in filenames:\n",
        "        \n",
        "        # load audio file\n",
        "        file_path = os.path.join(dirpath, f)\n",
        "        signal, sample_rate = librosa.load(file_path, sr=sample_rate)\n",
        "\n",
        "        # extend or cut signal to be equal to the expected size\n",
        "        signal_correct_size = make_track_correct_size(signal, expected_num_samples_per_track)\n",
        "\n",
        "        # obtain the features of the audio track using the function defined above\n",
        "        track_features = audio_track_to_features(signal = signal_correct_size, \n",
        "                                                 processing_method = 'fft', \n",
        "                                                 sample_rate = sample_rate, \n",
        "                                                 window_size = window_size, \n",
        "                                                 window_stride = window_stride, \n",
        "                                                 num_mfcc = 13)\n",
        "        \n",
        "        # append the audio track features to the features field of the dictionary\n",
        "        data['features'].append(track_features.tolist())\n",
        "\n",
        "        # append the current index-1 as the label of this track\n",
        "        # the -1 comes from the fact that the index 0 refers to the dataset root directory,\n",
        "        # the only directory which does not have a label\n",
        "        data['labels'].append(i-1)\n",
        "        # print('file_path: {}'.format(file_path))\n",
        "\n",
        "\n",
        "  # create the json file from the dictionary\n",
        "  with open(json_path, 'w') as fp:\n",
        "    json.dump(data, fp, indent=4)"
      ],
      "execution_count": 1,
      "outputs": []
    },
    {
      "cell_type": "markdown",
      "metadata": {
        "id": "tNV13MzS1-2M"
      },
      "source": [
        "**Step 5:** Run the function above with the desired parameters"
      ]
    },
    {
      "cell_type": "code",
      "metadata": {
        "id": "qQKXmoGxjKJx",
        "colab": {
          "base_uri": "https://localhost:8080/",
          "height": 231
        },
        "outputId": "804121df-a399-4517-c33f-53828acc28b1"
      },
      "source": [
        "JSON_PATH = DATASET_ROOT_DIR + 'data.json'\n",
        "PROCESSING_METHOD = 'fft'\n",
        "SAMPLE_RATE = 16000\n",
        "EXPECTED_DURATION = 1 # in seconds\n",
        "WINDOW_SIZE_SAMPLES = 512\n",
        "WINDOW_STRIDE_SAMPLES = 320\n",
        "MFCC_COEFF_NUMBER = 13\n",
        "\n",
        "\n",
        "preprocess_entire_dataset(dataset_path = DATASET_ROOT_DIR, \n",
        "                   json_path = JSON_PATH, \n",
        "                   processing_method = PROCESSING_METHOD,\n",
        "                   sample_rate = SAMPLE_RATE, \n",
        "                   expected_duration = EXPECTED_DURATION, \n",
        "                   window_size = WINDOW_SIZE_SAMPLES, \n",
        "                   window_stride = WINDOW_STRIDE_SAMPLES, \n",
        "                   num_mfcc = MFCC_COEFF_NUMBER)"
      ],
      "execution_count": 2,
      "outputs": [
        {
          "output_type": "error",
          "ename": "NameError",
          "evalue": "ignored",
          "traceback": [
            "\u001b[0;31m---------------------------------------------------------------------------\u001b[0m",
            "\u001b[0;31mNameError\u001b[0m                                 Traceback (most recent call last)",
            "\u001b[0;32m<ipython-input-2-d5c2d649338b>\u001b[0m in \u001b[0;36m<module>\u001b[0;34m()\u001b[0m\n\u001b[0;32m----> 1\u001b[0;31m \u001b[0mJSON_PATH\u001b[0m \u001b[0;34m=\u001b[0m \u001b[0mDATASET_ROOT_DIR\u001b[0m \u001b[0;34m+\u001b[0m \u001b[0;34m'data.json'\u001b[0m\u001b[0;34m\u001b[0m\u001b[0;34m\u001b[0m\u001b[0m\n\u001b[0m\u001b[1;32m      2\u001b[0m \u001b[0mPROCESSING_METHOD\u001b[0m \u001b[0;34m=\u001b[0m \u001b[0;34m'fft'\u001b[0m\u001b[0;34m\u001b[0m\u001b[0;34m\u001b[0m\u001b[0m\n\u001b[1;32m      3\u001b[0m \u001b[0mSAMPLE_RATE\u001b[0m \u001b[0;34m=\u001b[0m \u001b[0;36m16000\u001b[0m\u001b[0;34m\u001b[0m\u001b[0;34m\u001b[0m\u001b[0m\n\u001b[1;32m      4\u001b[0m \u001b[0mEXPECTED_DURATION\u001b[0m \u001b[0;34m=\u001b[0m \u001b[0;36m1\u001b[0m \u001b[0;31m# in seconds\u001b[0m\u001b[0;34m\u001b[0m\u001b[0;34m\u001b[0m\u001b[0m\n\u001b[1;32m      5\u001b[0m \u001b[0mWINDOW_SIZE_SAMPLES\u001b[0m \u001b[0;34m=\u001b[0m \u001b[0;36m512\u001b[0m\u001b[0;34m\u001b[0m\u001b[0;34m\u001b[0m\u001b[0m\n",
            "\u001b[0;31mNameError\u001b[0m: name 'DATASET_ROOT_DIR' is not defined"
          ]
        }
      ]
    },
    {
      "cell_type": "markdown",
      "metadata": {
        "id": "Nio7zr1n-f17"
      },
      "source": [
        "### 3) Build model"
      ]
    },
    {
      "cell_type": "code",
      "metadata": {
        "colab": {
          "base_uri": "https://localhost:8080/",
          "height": 1000
        },
        "id": "jz9DRkNBuhTF",
        "outputId": "262b914b-9bba-40b0-8b34-1230d092d140"
      },
      "source": [
        "import json\n",
        "import numpy as np\n",
        "from sklearn.model_selection import train_test_split\n",
        "import tensorflow.keras as keras\n",
        "import matplotlib.pyplot as plt\n",
        "\n",
        "\n",
        "\n",
        "def load_data(data_path):\n",
        "    \"\"\"Loads training dataset from json file.\n",
        "        :param data_path (str): Path to json file containing data\n",
        "        :return X (ndarray): Inputs\n",
        "        :return y (ndarray): Targets\n",
        "    \"\"\"\n",
        "\n",
        "    with open(data_path, \"r\") as fp:\n",
        "        data = json.load(fp)\n",
        "\n",
        "    X = np.array(data['features'])\n",
        "    print(X)\n",
        "    y = np.array(data['labels'])\n",
        "    return X, y\n",
        "\n",
        "\n",
        "\n",
        "def plot_history(history):\n",
        "    \"\"\"Plots accuracy/loss for training/validation set as a function of the epochs\n",
        "        :param history: Training history of model\n",
        "        :return:\n",
        "    \"\"\"\n",
        "\n",
        "    fig, axs = plt.subplots(2)\n",
        "\n",
        "    # create accuracy sublpot\n",
        "    axs[0].plot(history.history[\"accuracy\"], label=\"train accuracy\")\n",
        "    axs[0].plot(history.history[\"val_accuracy\"], label=\"test accuracy\")\n",
        "    axs[0].set_ylabel(\"Accuracy\")\n",
        "    axs[0].legend(loc=\"lower right\")\n",
        "    axs[0].set_title(\"Accuracy eval\")\n",
        "\n",
        "    # create error sublpot\n",
        "    axs[1].plot(history.history[\"loss\"], label=\"train error\")\n",
        "    axs[1].plot(history.history[\"val_loss\"], label=\"test error\")\n",
        "    axs[1].set_ylabel(\"Error\")\n",
        "    axs[1].set_xlabel(\"Epoch\")\n",
        "    axs[1].legend(loc=\"upper right\")\n",
        "    axs[1].set_title(\"Error eval\")\n",
        "\n",
        "    plt.show()\n",
        "\n",
        "\n",
        "\n",
        "def prepare_datasets(test_size, validation_size):\n",
        "    \"\"\"Loads data and splits it into train, validation and test sets.\n",
        "    :param test_size (float): Value in [0, 1] indicating percentage of data set to allocate to test split\n",
        "    :param validation_size (float): Value in [0, 1] indicating percentage of train set to allocate to validation split\n",
        "    :return X_train (ndarray): Input training set\n",
        "    :return X_validation (ndarray): Input validation set\n",
        "    :return X_test (ndarray): Input test set\n",
        "    :return y_train (ndarray): Target training set\n",
        "    :return y_validation (ndarray): Target validation set\n",
        "    :return y_test (ndarray): Target test set\n",
        "    \"\"\"\n",
        "\n",
        "    # load data\n",
        "    X, y = load_data(JSON_PATH)\n",
        "\n",
        "    # create train, validation and test split\n",
        "    X_train, X_test, y_train, y_test = train_test_split(X, y, test_size=test_size)\n",
        "    X_train, X_validation, y_train, y_validation = train_test_split(X_train, y_train, test_size=validation_size)\n",
        "    print(X_train.shape)\n",
        "    # add an axis to input sets\n",
        "    X_train = X_train[..., np.newaxis]\n",
        "    X_validation = X_validation[..., np.newaxis]\n",
        "    X_test = X_test[..., np.newaxis]\n",
        "\n",
        "    return X_train, X_validation, X_test, y_train, y_validation, y_test\n",
        "\n",
        "\n",
        "\n",
        "def build_model(input_shape):\n",
        "    \"\"\"Generates CNN model\n",
        "    :param input_shape (tuple): Shape of input set\n",
        "    :return model: CNN model\n",
        "    \"\"\"\n",
        "\n",
        "    # build network topology\n",
        "    model = keras.Sequential()\n",
        "\n",
        "    # 1st conv layer\n",
        "    model.add(keras.layers.Conv2D(32, (3, 3), activation='relu', input_shape=input_shape))\n",
        "    model.add(keras.layers.MaxPooling2D((3, 3), strides=(2, 2), padding='same'))\n",
        "    model.add(keras.layers.BatchNormalization())\n",
        "\n",
        "    # 2nd conv layer\n",
        "    model.add(keras.layers.Conv2D(64, (3, 3), activation='relu'))\n",
        "    model.add(keras.layers.MaxPooling2D((3, 3), strides=(2, 2), padding='same'))\n",
        "    model.add(keras.layers.BatchNormalization())\n",
        "\n",
        "    # # 3rd conv layer\n",
        "    # model.add(keras.layers.Conv2D(128, (2, 2), activation='relu'))\n",
        "    # model.add(keras.layers.MaxPooling2D((2, 2), strides=(2, 2), padding='same'))\n",
        "    # model.add(keras.layers.BatchNormalization())\n",
        "\n",
        "    # flatten output and feed it into dense layer\n",
        "    model.add(keras.layers.Flatten())\n",
        "    model.add(keras.layers.Dense(64, activation='relu'))\n",
        "    model.add(keras.layers.Dropout(0.3))\n",
        "\n",
        "    # output layer\n",
        "    model.add(keras.layers.Dense(37, activation='softmax'))\n",
        "\n",
        "    return model\n",
        "\n",
        "\n",
        "\n",
        "def predict(model, X, y):\n",
        "    \"\"\"Predict a single sample using the trained model\n",
        "    :param model: Trained classifier\n",
        "    :param X: Input data\n",
        "    :param y (int): Target\n",
        "    \"\"\"\n",
        "\n",
        "    # add a dimension to input data for sample - model.predict() expects a 4d array in this case\n",
        "    X = X[np.newaxis, ...] # array shape (1, 130, 13, 1)\n",
        "\n",
        "    # perform prediction\n",
        "    prediction = model.predict(X)\n",
        "\n",
        "    # get index with max value\n",
        "    predicted_index = np.argmax(prediction, axis=1)\n",
        "\n",
        "    print(\"Target: {}, Predicted label: {}\".format(y, predicted_index))\n",
        "\n",
        "\n",
        "\n",
        "if __name__ == \"__main__\":\n",
        "\n",
        "    # get train, validation, test splits\n",
        "    X_train, X_validation, X_test, y_train, y_validation, y_test = prepare_datasets(0.25, 0.2)\n",
        "\n",
        "    # create network\n",
        "    print('X_train.shape: {}'.format(X_train.shape))\n",
        "    input_shape = (X_train.shape[1], X_train.shape[2], 1)\n",
        "    model = build_model(input_shape)\n",
        "\n",
        "    # compile model\n",
        "    optimiser = keras.optimizers.Adam(learning_rate=0.0001)\n",
        "    model.compile(optimizer=optimiser,\n",
        "                  loss='sparse_categorical_crossentropy',\n",
        "                  metrics=['accuracy'])\n",
        "\n",
        "    model.summary()\n",
        "\n",
        "    # train model\n",
        "    history = model.fit(X_train, y_train, validation_data=(X_validation, y_validation), batch_size=32, epochs=30)\n",
        "\n",
        "    # plot accuracy/error for training and validation\n",
        "    plot_history(history)"
      ],
      "execution_count": null,
      "outputs": [
        {
          "output_type": "stream",
          "text": [
            "[[[-6.69221069e+02  5.67289963e+01  4.66553116e+01 ...  8.60111332e+00\n",
            "    1.46912327e+01 -3.44949389e+00]\n",
            "  [-6.47612549e+02  7.24703827e+01  4.70103874e+01 ...  5.95060349e+00\n",
            "    2.29700089e+01  6.94642305e+00]\n",
            "  [-6.38819946e+02  7.94370651e+01  5.86950684e+01 ... -2.40464830e+00\n",
            "    1.32395258e+01  1.01475945e+01]\n",
            "  ...\n",
            "  [-6.37700073e+02  7.47588654e+01  4.02864075e+01 ...  1.44419146e+01\n",
            "    1.29252682e+01 -2.76941633e+00]\n",
            "  [-6.29049438e+02  8.39876556e+01  4.91593857e+01 ...  6.38550901e+00\n",
            "    2.00499916e+01 -2.60986090e-01]\n",
            "  [-6.50843689e+02  7.28754959e+01  4.24732475e+01 ...  1.50608482e+01\n",
            "    1.46303644e+01  9.74633026e+00]]\n",
            "\n",
            " [[-6.94396790e+02  1.22910194e+01  5.91331768e+00 ...  2.65939760e+00\n",
            "    1.24142313e+00 -5.99062964e-02]\n",
            "  [-6.94819946e+02  8.90698624e+00  7.10920048e+00 ... -9.74478900e-01\n",
            "   -2.96402264e+00 -7.45486593e+00]\n",
            "  [-6.98029419e+02  7.66519070e+00  4.58346319e+00 ...  3.58983815e-01\n",
            "    4.83377576e-02 -1.91579807e+00]\n",
            "  ...\n",
            "  [-6.74944946e+02  3.34891968e+01  1.86756649e+01 ... -5.18091679e+00\n",
            "   -7.43488121e+00 -6.61042547e+00]\n",
            "  [-6.82404907e+02  2.39300499e+01  1.51247349e+01 ...  4.94863987e+00\n",
            "    7.25847661e-01 -5.16749811e+00]\n",
            "  [-6.84297668e+02  1.62073421e+01  1.19748414e+00 ...  5.64021492e+00\n",
            "   -4.84691048e+00 -1.27366695e+01]]\n",
            "\n",
            " [[-5.99414856e+02  7.21892395e+01 -2.06773167e+01 ... -6.56162405e+00\n",
            "   -5.17861509e+00 -1.23121433e+01]\n",
            "  [-6.09532532e+02  6.60895996e+01 -2.97109070e+01 ... -2.02009373e+01\n",
            "   -1.62547035e+01 -2.29729042e+01]\n",
            "  [-6.03549866e+02  6.80979462e+01 -2.84696598e+01 ... -2.44374352e+01\n",
            "   -1.94440384e+01 -3.03713760e+01]\n",
            "  ...\n",
            "  [-6.21184143e+02  8.67938080e+01 -7.02034140e+00 ... -1.78991795e+01\n",
            "   -1.20165119e+01 -2.44796066e+01]\n",
            "  [-6.32149841e+02  7.35907898e+01 -1.85404091e+01 ... -2.98063087e+01\n",
            "   -1.52072964e+01 -1.97908363e+01]\n",
            "  [-6.35282104e+02  9.36312103e+01  9.57060814e+00 ... -1.44049911e+01\n",
            "   -6.12118149e+00 -2.11256428e+01]]\n",
            "\n",
            " ...\n",
            "\n",
            " [[-4.00859545e+02  7.89246263e+01 -2.35792948e-01 ...  2.61856937e+00\n",
            "    5.57540092e+00  9.96411890e+00]\n",
            "  [-3.88762602e+02  1.39671190e+02 -1.58760842e+01 ... -3.95701753e+00\n",
            "    5.57598640e+00 -7.37439729e+00]\n",
            "  [-3.95118341e+02  1.36558963e+02 -1.12922585e+01 ...  1.16860238e+00\n",
            "   -1.70032190e+00 -8.15266726e+00]\n",
            "  ...\n",
            "  [-4.11676810e+02  1.52311554e+02 -1.17094561e+01 ... -6.30676070e+00\n",
            "   -8.61272939e+00 -6.49167238e+00]\n",
            "  [-4.34661552e+02  1.35460178e+02 -2.26396763e+01 ... -9.82886916e+00\n",
            "   -1.14488191e+01 -4.34829218e+00]\n",
            "  [-7.70329601e+02  0.00000000e+00  0.00000000e+00 ...  0.00000000e+00\n",
            "    0.00000000e+00  0.00000000e+00]]\n",
            "\n",
            " [[-5.77810486e+02  3.37991829e+01 -8.75589275e+00 ...  5.25866795e+00\n",
            "   -5.50750351e+00 -1.19824848e+01]\n",
            "  [-5.63605713e+02  4.27224197e+01  8.83883762e+00 ... -1.45358810e+01\n",
            "   -1.48928270e+01 -9.30912304e+00]\n",
            "  [-5.68755493e+02  3.83913040e+01  3.60943174e+00 ...  3.25392628e+00\n",
            "    1.30989337e+00 -2.76120567e+00]\n",
            "  ...\n",
            "  [-5.55333252e+02  4.04877167e+01  4.47064638e-01 ... -5.59978867e+00\n",
            "   -7.44279385e+00 -1.18301716e+01]\n",
            "  [-5.51810242e+02  3.82727432e+01 -1.21467066e+01 ... -1.72849388e+01\n",
            "   -9.80779839e+00 -6.33683205e+00]\n",
            "  [-5.57815857e+02  3.40300865e+01  1.83986893e+01 ... -5.26864648e-01\n",
            "    8.61941624e+00  2.05632061e-01]]\n",
            "\n",
            " [[-7.85530457e+02  1.57891214e-01  1.41764328e-01 ... -1.29723608e-01\n",
            "   -1.44430324e-01 -1.49203300e-01]\n",
            "  [-7.85252502e+02  5.38299680e-01  4.85264719e-01 ... -4.55509156e-01\n",
            "   -5.16333342e-01 -5.43338835e-01]\n",
            "  [-7.84414490e+02  1.72154951e+00  1.66209245e+00 ...  1.73219144e-01\n",
            "   -5.94008714e-02 -2.81903327e-01]\n",
            "  ...\n",
            "  [-7.68164917e+02  2.40542870e+01  2.23505211e+01 ...  1.78211677e+00\n",
            "   -3.12352419e-01 -2.42078495e+00]\n",
            "  [-7.66958252e+02  2.49392204e+01  2.16600189e+01 ...  7.60534883e-01\n",
            "    1.56642580e+00  1.14932966e+00]\n",
            "  [-7.57405273e+02  3.77556686e+01  3.31597214e+01 ...  5.05592585e+00\n",
            "    3.99980211e+00  9.19420421e-01]]]\n",
            "(63500, 51, 13)\n",
            "X_train.shape: (63500, 51, 13, 1)\n",
            "Model: \"sequential_2\"\n",
            "_________________________________________________________________\n",
            "Layer (type)                 Output Shape              Param #   \n",
            "=================================================================\n",
            "conv2d_6 (Conv2D)            (None, 49, 11, 32)        320       \n",
            "_________________________________________________________________\n",
            "max_pooling2d_6 (MaxPooling2 (None, 25, 6, 32)         0         \n",
            "_________________________________________________________________\n",
            "batch_normalization_6 (Batch (None, 25, 6, 32)         128       \n",
            "_________________________________________________________________\n",
            "conv2d_7 (Conv2D)            (None, 23, 4, 64)         18496     \n",
            "_________________________________________________________________\n",
            "max_pooling2d_7 (MaxPooling2 (None, 12, 2, 64)         0         \n",
            "_________________________________________________________________\n",
            "batch_normalization_7 (Batch (None, 12, 2, 64)         256       \n",
            "_________________________________________________________________\n",
            "conv2d_8 (Conv2D)            (None, 11, 1, 128)        32896     \n",
            "_________________________________________________________________\n",
            "max_pooling2d_8 (MaxPooling2 (None, 6, 1, 128)         0         \n",
            "_________________________________________________________________\n",
            "batch_normalization_8 (Batch (None, 6, 1, 128)         512       \n",
            "_________________________________________________________________\n",
            "flatten_2 (Flatten)          (None, 768)               0         \n",
            "_________________________________________________________________\n",
            "dense_4 (Dense)              (None, 64)                49216     \n",
            "_________________________________________________________________\n",
            "dropout_2 (Dropout)          (None, 64)                0         \n",
            "_________________________________________________________________\n",
            "dense_5 (Dense)              (None, 37)                2405      \n",
            "=================================================================\n",
            "Total params: 104,229\n",
            "Trainable params: 103,781\n",
            "Non-trainable params: 448\n",
            "_________________________________________________________________\n",
            "Epoch 1/30\n",
            "1985/1985 [==============================] - 83s 41ms/step - loss: 3.2765 - accuracy: 0.1532 - val_loss: 1.7266 - val_accuracy: 0.5370\n",
            "Epoch 2/30\n",
            "1985/1985 [==============================] - 79s 40ms/step - loss: 1.8194 - accuracy: 0.4788 - val_loss: 1.0926 - val_accuracy: 0.6982\n",
            "Epoch 3/30\n",
            "1985/1985 [==============================] - 77s 39ms/step - loss: 1.2851 - accuracy: 0.6264 - val_loss: 0.8308 - val_accuracy: 0.7614\n",
            "Epoch 4/30\n",
            "1985/1985 [==============================] - 74s 37ms/step - loss: 1.0363 - accuracy: 0.6943 - val_loss: 0.7071 - val_accuracy: 0.8011\n",
            "Epoch 5/30\n",
            "1985/1985 [==============================] - 77s 39ms/step - loss: 0.8721 - accuracy: 0.7439 - val_loss: 0.6257 - val_accuracy: 0.8191\n",
            "Epoch 6/30\n",
            "1985/1985 [==============================] - 82s 41ms/step - loss: 0.7702 - accuracy: 0.7723 - val_loss: 0.5587 - val_accuracy: 0.8369\n",
            "Epoch 7/30\n",
            "1985/1985 [==============================] - 82s 41ms/step - loss: 0.6881 - accuracy: 0.7974 - val_loss: 0.5265 - val_accuracy: 0.8441\n",
            "Epoch 8/30\n",
            "1985/1985 [==============================] - 82s 41ms/step - loss: 0.6321 - accuracy: 0.8127 - val_loss: 0.4759 - val_accuracy: 0.8597\n",
            "Epoch 9/30\n",
            "1985/1985 [==============================] - 82s 41ms/step - loss: 0.5849 - accuracy: 0.8277 - val_loss: 0.4434 - val_accuracy: 0.8673\n",
            "Epoch 10/30\n",
            "1985/1985 [==============================] - 81s 41ms/step - loss: 0.5453 - accuracy: 0.8365 - val_loss: 0.4471 - val_accuracy: 0.8680\n",
            "Epoch 11/30\n",
            "1985/1985 [==============================] - 82s 41ms/step - loss: 0.5086 - accuracy: 0.8482 - val_loss: 0.4213 - val_accuracy: 0.8731\n",
            "Epoch 12/30\n",
            "1985/1985 [==============================] - 84s 42ms/step - loss: 0.4864 - accuracy: 0.8563 - val_loss: 0.4121 - val_accuracy: 0.8767\n",
            "Epoch 13/30\n",
            "1985/1985 [==============================] - 87s 44ms/step - loss: 0.4593 - accuracy: 0.8622 - val_loss: 0.3913 - val_accuracy: 0.8831\n",
            "Epoch 14/30\n",
            "1985/1985 [==============================] - 85s 43ms/step - loss: 0.4371 - accuracy: 0.8691 - val_loss: 0.3912 - val_accuracy: 0.8827\n",
            "Epoch 15/30\n",
            "1985/1985 [==============================] - 84s 42ms/step - loss: 0.4097 - accuracy: 0.8773 - val_loss: 0.3737 - val_accuracy: 0.8896\n",
            "Epoch 16/30\n",
            "1985/1985 [==============================] - 82s 41ms/step - loss: 0.3995 - accuracy: 0.8792 - val_loss: 0.3677 - val_accuracy: 0.8908\n",
            "Epoch 17/30\n",
            "1985/1985 [==============================] - 82s 41ms/step - loss: 0.3788 - accuracy: 0.8850 - val_loss: 0.3654 - val_accuracy: 0.8907\n",
            "Epoch 18/30\n",
            "1985/1985 [==============================] - 84s 42ms/step - loss: 0.3702 - accuracy: 0.8870 - val_loss: 0.3532 - val_accuracy: 0.8941\n",
            "Epoch 19/30\n",
            "1985/1985 [==============================] - 84s 42ms/step - loss: 0.3514 - accuracy: 0.8924 - val_loss: 0.3500 - val_accuracy: 0.8959\n",
            "Epoch 20/30\n",
            "1985/1985 [==============================] - 83s 42ms/step - loss: 0.3493 - accuracy: 0.8945 - val_loss: 0.3439 - val_accuracy: 0.8987\n",
            "Epoch 21/30\n",
            "1985/1985 [==============================] - 82s 41ms/step - loss: 0.3446 - accuracy: 0.8962 - val_loss: 0.3449 - val_accuracy: 0.8980\n",
            "Epoch 22/30\n",
            "1985/1985 [==============================] - 82s 41ms/step - loss: 0.3278 - accuracy: 0.8999 - val_loss: 0.3378 - val_accuracy: 0.8994\n",
            "Epoch 23/30\n",
            "1985/1985 [==============================] - 82s 41ms/step - loss: 0.3180 - accuracy: 0.9032 - val_loss: 0.3352 - val_accuracy: 0.9007\n",
            "Epoch 24/30\n",
            "1985/1985 [==============================] - 82s 41ms/step - loss: 0.3106 - accuracy: 0.9038 - val_loss: 0.3312 - val_accuracy: 0.9026\n",
            "Epoch 25/30\n",
            "1985/1985 [==============================] - 81s 41ms/step - loss: 0.2971 - accuracy: 0.9076 - val_loss: 0.3427 - val_accuracy: 0.8987\n",
            "Epoch 26/30\n",
            "1985/1985 [==============================] - 80s 40ms/step - loss: 0.2953 - accuracy: 0.9100 - val_loss: 0.3315 - val_accuracy: 0.9016\n",
            "Epoch 27/30\n",
            "1985/1985 [==============================] - 82s 41ms/step - loss: 0.2920 - accuracy: 0.9084 - val_loss: 0.3271 - val_accuracy: 0.9046\n",
            "Epoch 28/30\n",
            "1985/1985 [==============================] - 83s 42ms/step - loss: 0.2824 - accuracy: 0.9135 - val_loss: 0.3310 - val_accuracy: 0.9020\n",
            "Epoch 29/30\n",
            "1985/1985 [==============================] - 83s 42ms/step - loss: 0.2720 - accuracy: 0.9154 - val_loss: 0.3271 - val_accuracy: 0.9024\n",
            "Epoch 30/30\n",
            "1985/1985 [==============================] - 83s 42ms/step - loss: 0.2675 - accuracy: 0.9168 - val_loss: 0.3253 - val_accuracy: 0.9042\n"
          ],
          "name": "stdout"
        },
        {
          "output_type": "display_data",
          "data": {
            "image/png": "[encoded data removed]",
            "text/plain": [
              "<Figure size 432x288 with 2 Axes>"
            ]
          },
          "metadata": {
            "tags": [],
            "needs_background": "light"
          }
        }
      ]
    },
    {
      "cell_type": "code",
      "metadata": {
        "id": "Y5Ay09Hr1CzD"
      },
      "source": [
        "model.save(\"all_words.h5\")"
      ],
      "execution_count": null,
      "outputs": []
    },
    {
      "cell_type": "code",
      "metadata": {
        "id": "_UzQyblHauQ9",
        "colab": {
          "base_uri": "https://localhost:8080/"
        },
        "outputId": "32f3f2fd-c0d8-47a0-ddeb-e39438d20807"
      },
      "source": [
        "test_loss, test_acc = model.evaluate(X_test, y_test, verbose=2)\n",
        "print('\\nTest accuracy:', test_acc)\n",
        "\n",
        "# pick a sample to predict from the test set\n",
        "X_to_predict = X_test[100]\n",
        "y_to_predict = y_test[100]\n",
        "\n",
        "# predict sample\n",
        "predict(model, X_to_predict, y_to_predict)"
      ],
      "execution_count": null,
      "outputs": [
        {
          "output_type": "stream",
          "text": [
            "827/827 - 6s - loss: 0.3152 - accuracy: 0.9076\n",
            "\n",
            "Test accuracy: 0.907555103302002\n",
            "Target: 18, Predicted label: [18]\n"
          ],
          "name": "stdout"
        }
      ]
    },
    {
      "cell_type": "code",
      "metadata": {
        "id": "oEQYCXLUbbSZ",
        "colab": {
          "base_uri": "https://localhost:8080/"
        },
        "outputId": "7ac7a597-353f-4daf-f93a-48f30629a846"
      },
      "source": [
        "import tensorflow as tf\n",
        "# Convert the model to the TensorFlow Lite format without quantization\n",
        "converter = tf.lite.TFLiteConverter.from_keras_model(model)\n",
        "tflite_model = converter.convert()\n",
        "\n",
        "# Save the model to disk\n",
        "open(\"all_words.tflite\", \"wb\").write(tflite_model)\n",
        "\n",
        "import os\n",
        "basic_model_size = os.path.getsize(\"all_words.tflite\")\n",
        "print(\"Model is %d bytes\" % basic_model_size)"
      ],
      "execution_count": null,
      "outputs": [
        {
          "output_type": "stream",
          "text": [
            "INFO:tensorflow:Assets written to: /tmp/tmpiw9ksaq5/assets\n",
            "Model is 420788 bytes\n"
          ],
          "name": "stdout"
        }
      ]
    },
    {
      "cell_type": "code",
      "metadata": {
        "id": "tXCDA0gobx2g"
      },
      "source": [
        "# !echo \"const unsigned char model[] __attribute__((aligned(4))) = {\"  > /content/model.h\n",
        "# !cat model1.tflite | xxd -i                                  >> /content/model.h\n",
        "# !echo \"};\"                                                          >> /content/model.h\n",
        "\n",
        "# import os\n",
        "# model_h_size = os.path.getsize(\"model.h\")\n",
        "# print(f\"Header file, model.h, is {model_h_size:,} bytes.\")\n",
        "# print(\"\\nOpen the side panel (refresh if needed). Double click model.h to download the file.\")"
      ],
      "execution_count": null,
      "outputs": []
    },
    {
      "cell_type": "code",
      "metadata": {
        "id": "ClYTyCuld02O"
      },
      "source": [
        "# Function: Convert some hex value into an array for C programming\n",
        "def hex_to_c_array(hex_data, var_name):\n",
        "\n",
        "  c_str = ''\n",
        "\n",
        "  # Create header guard\n",
        "  c_str += '#ifndef ' + var_name.upper() + '_H\\n'\n",
        "  c_str += '#define ' + var_name.upper() + '_H\\n\\n'\n",
        "\n",
        "  # Add array length at top of file\n",
        "  c_str += '\\nunsigned int ' + var_name + '_len = ' + str(len(hex_data)) + ';\\n'\n",
        "\n",
        "  # Declare C variable\n",
        "  c_str += 'unsigned char ' + var_name + '[] = {'\n",
        "  hex_array = []\n",
        "  for i, val in enumerate(hex_data) :\n",
        "\n",
        "    # Construct string from hex\n",
        "    hex_str = format(val, '#04x')\n",
        "\n",
        "    # Add formatting so each line stays within 80 characters\n",
        "    if (i + 1) < len(hex_data):\n",
        "      hex_str += ','\n",
        "    if (i + 1) % 12 == 0:\n",
        "      hex_str += '\\n '\n",
        "    hex_array.append(hex_str)\n",
        "\n",
        "  # Add closing brace\n",
        "  c_str += '\\n ' + format(' '.join(hex_array)) + '\\n};\\n\\n'\n",
        "\n",
        "  # Close out header guard\n",
        "  c_str += '#endif //' + var_name.upper() + '_H'\n",
        "\n",
        "  return c_str"
      ],
      "execution_count": null,
      "outputs": []
    },
    {
      "cell_type": "code",
      "metadata": {
        "id": "S1I1PIs74r1P"
      },
      "source": [
        "with open(\"all_words\" + '.h', 'w') as file:\n",
        "  file.write(hex_to_c_array(tflite_model, \"all_words\"))"
      ],
      "execution_count": null,
      "outputs": []
    }
  ]
}