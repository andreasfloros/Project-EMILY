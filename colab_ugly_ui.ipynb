{
  "nbformat": 4,
  "nbformat_minor": 0,
  "metadata": {
    "colab": {
      "name": "Untitled3.ipynb",
      "provenance": [],
      "authorship_tag": "ABX9TyNEaTwkhHcNsuTLb0T8BrF8",
      "include_colab_link": true
    },
    "kernelspec": {
      "name": "python3",
      "display_name": "Python 3"
    },
    "language_info": {
      "name": "python"
    }
  },
  "cells": [
    {
      "cell_type": "markdown",
      "metadata": {
        "id": "view-in-github",
        "colab_type": "text"
      },
      "source": [
        "<a href=\"https://colab.research.google.com/github/andreasfloros/ARM-ML-Embedded/blob/main/colab_ugly_ui.ipynb\" target=\"_parent\"><img src=\"https://colab.research.google.com/assets/colab-badge.svg\" alt=\"Open In Colab\"/></a>"
      ]
    },
    {
      "cell_type": "code",
      "metadata": {
        "colab": {
          "base_uri": "https://localhost:8080/",
          "height": 129
        },
        "id": "zjrMvz83Fchc",
        "outputId": "bd464d61-c827-4e0e-f59d-f2b3941b6cd2"
      },
      "source": [
        "#@title User Controls\n",
        "\n",
        "dataset_url = 'Copy dataset URL here' #@param {type: 'string'}\n",
        "\n",
        "processing_method = 'FFT' #@param ['FFT', 'STFT', 'MFCC'] {allow-input: true}\n",
        "\n",
        "expected_duration (seconds) = 1.024 #@param {type: 'number'}\n",
        "sample_rate =  16000 #@param {type: 'number'}\n",
        "\n",
        "window_size (samples) =  True #@param {type: 'boolean'}\n",
        "window_stride (samples)=  320 #@param {type: 'number'}\n",
        "\n",
        "JSON_PATH = 'data.json'\n",
        "PROCESSING_METHOD = 'mfcc'\n",
        "\n",
        "MFCC_COEFF_NUMBER = 13"
      ],
      "execution_count": 1,
      "outputs": [
        {
          "output_type": "error",
          "ename": "SyntaxError",
          "evalue": "ignored",
          "traceback": [
            "\u001b[0;36m  File \u001b[0;32m\"<ipython-input-1-3d2eb95a384d>\"\u001b[0;36m, line \u001b[0;32m12\u001b[0m\n\u001b[0;31m    mfcc_coeff_number =\u001b[0m\n\u001b[0m                        ^\u001b[0m\n\u001b[0;31mSyntaxError\u001b[0m\u001b[0;31m:\u001b[0m invalid syntax\n"
          ]
        }
      ]
    }
  ]
}